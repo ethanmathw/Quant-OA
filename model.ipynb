{
 "cells": [
  {
   "cell_type": "code",
   "execution_count": 101,
   "metadata": {},
   "outputs": [],
   "source": [
    "import pandas as pd\n",
    "import numpy as np\n",
    "import matplotlib.pyplot as plt\n",
    "import plotly.express as px\n",
    "import tensorflow as tf\n",
    "from tensorflow import keras\n",
    "from keras.layers import Dense\n",
    "from keras.models import Sequential, load_model\n",
    "from keras.activations import linear, relu, sigmoid\n",
    "from sklearn.model_selection import train_test_split\n",
    "from sklearn.metrics import confusion_matrix, balanced_accuracy_score\n",
    "from sklearn.preprocessing import StandardScaler\n",
    "from sklearn.metrics import roc_curve, auc"
   ]
  },
  {
   "cell_type": "code",
   "execution_count": 102,
   "metadata": {},
   "outputs": [
    {
     "data": {
      "text/html": [
       "<div>\n",
       "<style scoped>\n",
       "    .dataframe tbody tr th:only-of-type {\n",
       "        vertical-align: middle;\n",
       "    }\n",
       "\n",
       "    .dataframe tbody tr th {\n",
       "        vertical-align: top;\n",
       "    }\n",
       "\n",
       "    .dataframe thead th {\n",
       "        text-align: right;\n",
       "    }\n",
       "</style>\n",
       "<table border=\"1\" class=\"dataframe\">\n",
       "  <thead>\n",
       "    <tr style=\"text-align: right;\">\n",
       "      <th></th>\n",
       "      <th>Strike</th>\n",
       "      <th>Size</th>\n",
       "      <th>Price</th>\n",
       "      <th>MarketSize</th>\n",
       "      <th>FILL</th>\n",
       "      <th>TimeOfOrder</th>\n",
       "      <th>Exchange</th>\n",
       "    </tr>\n",
       "  </thead>\n",
       "  <tbody>\n",
       "    <tr>\n",
       "      <th>0</th>\n",
       "      <td>315.0</td>\n",
       "      <td>5</td>\n",
       "      <td>10.65</td>\n",
       "      <td>10</td>\n",
       "      <td>0</td>\n",
       "      <td>0</td>\n",
       "      <td>4</td>\n",
       "    </tr>\n",
       "    <tr>\n",
       "      <th>1</th>\n",
       "      <td>145.0</td>\n",
       "      <td>2</td>\n",
       "      <td>2.20</td>\n",
       "      <td>72</td>\n",
       "      <td>1</td>\n",
       "      <td>0</td>\n",
       "      <td>4</td>\n",
       "    </tr>\n",
       "    <tr>\n",
       "      <th>2</th>\n",
       "      <td>45.0</td>\n",
       "      <td>119</td>\n",
       "      <td>8.75</td>\n",
       "      <td>499</td>\n",
       "      <td>1</td>\n",
       "      <td>0</td>\n",
       "      <td>4</td>\n",
       "    </tr>\n",
       "    <tr>\n",
       "      <th>3</th>\n",
       "      <td>180.0</td>\n",
       "      <td>91</td>\n",
       "      <td>29.60</td>\n",
       "      <td>210</td>\n",
       "      <td>1</td>\n",
       "      <td>0</td>\n",
       "      <td>2</td>\n",
       "    </tr>\n",
       "    <tr>\n",
       "      <th>4</th>\n",
       "      <td>385.0</td>\n",
       "      <td>3</td>\n",
       "      <td>68.40</td>\n",
       "      <td>27</td>\n",
       "      <td>0</td>\n",
       "      <td>0</td>\n",
       "      <td>4</td>\n",
       "    </tr>\n",
       "    <tr>\n",
       "      <th>...</th>\n",
       "      <td>...</td>\n",
       "      <td>...</td>\n",
       "      <td>...</td>\n",
       "      <td>...</td>\n",
       "      <td>...</td>\n",
       "      <td>...</td>\n",
       "      <td>...</td>\n",
       "    </tr>\n",
       "    <tr>\n",
       "      <th>29995</th>\n",
       "      <td>137.0</td>\n",
       "      <td>41</td>\n",
       "      <td>0.29</td>\n",
       "      <td>622</td>\n",
       "      <td>1</td>\n",
       "      <td>187</td>\n",
       "      <td>3</td>\n",
       "    </tr>\n",
       "    <tr>\n",
       "      <th>29996</th>\n",
       "      <td>720.0</td>\n",
       "      <td>58</td>\n",
       "      <td>16.15</td>\n",
       "      <td>273</td>\n",
       "      <td>1</td>\n",
       "      <td>187</td>\n",
       "      <td>4</td>\n",
       "    </tr>\n",
       "    <tr>\n",
       "      <th>29997</th>\n",
       "      <td>109.0</td>\n",
       "      <td>95</td>\n",
       "      <td>2.38</td>\n",
       "      <td>152</td>\n",
       "      <td>0</td>\n",
       "      <td>187</td>\n",
       "      <td>3</td>\n",
       "    </tr>\n",
       "    <tr>\n",
       "      <th>29998</th>\n",
       "      <td>202.0</td>\n",
       "      <td>95</td>\n",
       "      <td>1.66</td>\n",
       "      <td>186</td>\n",
       "      <td>0</td>\n",
       "      <td>187</td>\n",
       "      <td>1</td>\n",
       "    </tr>\n",
       "    <tr>\n",
       "      <th>29999</th>\n",
       "      <td>300.0</td>\n",
       "      <td>191</td>\n",
       "      <td>14.60</td>\n",
       "      <td>842</td>\n",
       "      <td>1</td>\n",
       "      <td>187</td>\n",
       "      <td>4</td>\n",
       "    </tr>\n",
       "  </tbody>\n",
       "</table>\n",
       "<p>26397 rows × 7 columns</p>\n",
       "</div>"
      ],
      "text/plain": [
       "       Strike  Size  Price  MarketSize  FILL  TimeOfOrder  Exchange\n",
       "0       315.0     5  10.65          10     0            0         4\n",
       "1       145.0     2   2.20          72     1            0         4\n",
       "2        45.0   119   8.75         499     1            0         4\n",
       "3       180.0    91  29.60         210     1            0         2\n",
       "4       385.0     3  68.40          27     0            0         4\n",
       "...       ...   ...    ...         ...   ...          ...       ...\n",
       "29995   137.0    41   0.29         622     1          187         3\n",
       "29996   720.0    58  16.15         273     1          187         4\n",
       "29997   109.0    95   2.38         152     0          187         3\n",
       "29998   202.0    95   1.66         186     0          187         1\n",
       "29999   300.0   191  14.60         842     1          187         4\n",
       "\n",
       "[26397 rows x 7 columns]"
      ]
     },
     "execution_count": 102,
     "metadata": {},
     "output_type": "execute_result"
    }
   ],
   "source": [
    "df = pd.read_csv(\"optionData.csv\")\n",
    "df = df.dropna()\n",
    "stocks = df.UnderlyingSymbol.unique()\n",
    "categorical_features = [\"UnderlyingSymbol\", \"CallPut\", \"Side\", \"Exchange\", \"OrderEventTypeOmIn\"]\n",
    "for feature in categorical_features:\n",
    "    df[feature] = df[feature].astype('category')\n",
    "    one_hot = pd.get_dummies(df[feature])\n",
    "    df = df.drop(feature, axis = 1)\n",
    "    df = df.join(one_hot)\n",
    "df = df.drop(stocks, axis = 1)\n",
    "df = df.drop(\"SeInstructionId\", axis = 1)\n",
    "df = df.drop(\"OrderId\", axis = 1)\n",
    "df = df.drop( \"OptionId\", axis = 1)\n",
    "df = df.drop(\"OptionIdOmIn\", axis = 1)\n",
    "df = df.drop([\"Expiration\", \"TimeSe\", \"OrderEventType\", \"TimeOmIn\", \"CANCEL\", \"C\", \"B\", \"P\", \"S\"], axis = 1)\n",
    "def timeOfOrder(time):\n",
    "    x = time.split(\" \")[1].split(\":\")[0] + time.split(\" \")[1].split(\":\")[1]\n",
    "    x = pd.to_numeric(x)\n",
    "    return x\n",
    "df[\"TimeOfOrder\"] = (df[\"TimeOmOut\"].apply(lambda x: timeOfOrder(x)))\n",
    "z = df.TimeOfOrder.unique()\n",
    "for i in range(len(z)):\n",
    "    df.loc[df[\"TimeOfOrder\"] == z[i], \"TimeOfOrder\"] = i\n",
    "df = df.drop(\"TimeOmOut\", axis = 1)\n",
    "df[\"Exchange\"] = df[\"AMEX\"] + 2 * df[\"CBOE\"] + 3* df[\"ISE\"] + 4 * df[\"PHLX\"]\n",
    "df = df.drop([\"AMEX\", \"CBOE\", \"ISE\", \"PHLX\"], axis = 1)\n",
    "df"
   ]
  },
  {
   "cell_type": "code",
   "execution_count": 99,
   "metadata": {},
   "outputs": [
    {
     "name": "stdout",
     "output_type": "stream",
     "text": [
      "11640 14757\n",
      "11640 0\n"
     ]
    }
   ],
   "source": [
    "# df1 = df[df[\"FILL\"] == 1.0]\n",
    "# df2 = df[df[\"FILL\"] == 0.0]\n",
    "# print(len(df1), len(df2))\n",
    "# def balance(df, target, percentage):\n",
    "#     df1 = df[df[target] == 1.0]\n",
    "#     df2 = df[df[target] == 0.0]\n",
    "#     # x = np.rint((1-percentage) / percentage)\n",
    "#     # df2 = df2.sample(len(df1) * int(x))\n",
    "#     return pd.concat([df1, df2])\n",
    "# df = balance(df, \"FILL\", 0.67)\n",
    "# df1 = df[df[\"FILL\"] == 1.0]\n",
    "# df2 = df[df[\"FILL\"] == 0.0]\n",
    "# print(len(df1), len(df2))"
   ]
  },
  {
   "cell_type": "code",
   "execution_count": 103,
   "metadata": {},
   "outputs": [
    {
     "name": "stdout",
     "output_type": "stream",
     "text": [
      "The shape of X is: (26397, 6)\n",
      "The shape of y is: (26397,)\n"
     ]
    }
   ],
   "source": [
    "def format_data(df):\n",
    "    X = df.drop(['FILL'], axis = 1).to_numpy()\n",
    "    y = df['FILL'].to_numpy()\n",
    "    y.reshape((-1,1))\n",
    "    return X, y\n",
    "X,y = format_data(df)\n",
    "print ('The shape of X is: ' + str(X.shape))\n",
    "print ('The shape of y is: ' + str(y.shape))\n",
    "X_train, X_test, y_train, y_test  = train_test_split(X, y, test_size=0.2, random_state=1)\n",
    "X_train, X_val, y_train, y_val  = train_test_split(X_train, y_train, test_size=0.25, random_state=1)\n",
    "#normalize the data\n",
    "scaler = StandardScaler().fit(X_train)\n",
    "X_train = scaler.transform(X_train)\n",
    "X_val = scaler.transform(X_val)\n",
    "X_test = scaler.transform(X_test)"
   ]
  },
  {
   "cell_type": "code",
   "execution_count": 115,
   "metadata": {},
   "outputs": [
    {
     "name": "stdout",
     "output_type": "stream",
     "text": [
      "Model: \"my_model\"\n",
      "_________________________________________________________________\n",
      " Layer (type)                Output Shape              Param #   \n",
      "=================================================================\n",
      " L1 (Dense)                  (None, 512)               3584      \n",
      "                                                                 \n",
      " L2 (Dense)                  (None, 256)               131328    \n",
      "                                                                 \n",
      " dense_9 (Dense)             (None, 64)                16448     \n",
      "                                                                 \n",
      " L3 (Dense)                  (None, 1)                 65        \n",
      "                                                                 \n",
      "=================================================================\n",
      "Total params: 151,425\n",
      "Trainable params: 151,425\n",
      "Non-trainable params: 0\n",
      "_________________________________________________________________\n"
     ]
    }
   ],
   "source": [
    "tf.random.set_seed(1234)\n",
    "model = Sequential(\n",
    "    [               \n",
    "        tf.keras.Input(shape = (6,)),\n",
    "        Dense(512, activation = \"relu\", name = 'L1'),\n",
    "        Dense(256, activation = 'relu', name = 'L2'),\n",
    "        Dense(64, activation = \"relu\"),\n",
    "        Dense(1, activation = 'sigmoid', name = 'L3')\n",
    "\n",
    "    ], name = \"my_model\" \n",
    ")\n",
    "model.summary()"
   ]
  },
  {
   "cell_type": "code",
   "execution_count": 116,
   "metadata": {},
   "outputs": [
    {
     "name": "stdout",
     "output_type": "stream",
     "text": [
      "Epoch 1/30\n",
      "495/495 [==============================] - 2s 3ms/step - loss: 0.6484 - accuracy: 0.5935 - precision_14: 0.5807 - val_loss: 0.6384 - val_accuracy: 0.6057 - val_precision_14: 0.5656\n",
      "Epoch 2/30\n",
      "495/495 [==============================] - 1s 2ms/step - loss: 0.6315 - accuracy: 0.6153 - precision_14: 0.6065 - val_loss: 0.6406 - val_accuracy: 0.6042 - val_precision_14: 0.5414\n",
      "Epoch 3/30\n",
      "495/495 [==============================] - 1s 2ms/step - loss: 0.6276 - accuracy: 0.6220 - precision_14: 0.6079 - val_loss: 0.6336 - val_accuracy: 0.6244 - val_precision_14: 0.5762\n",
      "Epoch 4/30\n",
      "495/495 [==============================] - 1s 2ms/step - loss: 0.6251 - accuracy: 0.6257 - precision_14: 0.6179 - val_loss: 0.6289 - val_accuracy: 0.6178 - val_precision_14: 0.5979\n",
      "Epoch 5/30\n",
      "495/495 [==============================] - 1s 3ms/step - loss: 0.6251 - accuracy: 0.6246 - precision_14: 0.6181 - val_loss: 0.6272 - val_accuracy: 0.6218 - val_precision_14: 0.6157\n",
      "Epoch 6/30\n",
      "495/495 [==============================] - 1s 2ms/step - loss: 0.6241 - accuracy: 0.6266 - precision_14: 0.6239 - val_loss: 0.6246 - val_accuracy: 0.6284 - val_precision_14: 0.5919\n",
      "Epoch 7/30\n",
      "495/495 [==============================] - 1s 2ms/step - loss: 0.6225 - accuracy: 0.6251 - precision_14: 0.6153 - val_loss: 0.6265 - val_accuracy: 0.6163 - val_precision_14: 0.6444\n",
      "Epoch 8/30\n",
      "495/495 [==============================] - 1s 2ms/step - loss: 0.6208 - accuracy: 0.6299 - precision_14: 0.6256 - val_loss: 0.6231 - val_accuracy: 0.6297 - val_precision_14: 0.6030\n",
      "Epoch 9/30\n",
      "495/495 [==============================] - 1s 2ms/step - loss: 0.6193 - accuracy: 0.6336 - precision_14: 0.6306 - val_loss: 0.6224 - val_accuracy: 0.6288 - val_precision_14: 0.6101\n",
      "Epoch 10/30\n",
      "495/495 [==============================] - 1s 2ms/step - loss: 0.6202 - accuracy: 0.6303 - precision_14: 0.6219 - val_loss: 0.6246 - val_accuracy: 0.6203 - val_precision_14: 0.6449\n",
      "Epoch 11/30\n",
      "495/495 [==============================] - 1s 2ms/step - loss: 0.6187 - accuracy: 0.6326 - precision_14: 0.6292 - val_loss: 0.6234 - val_accuracy: 0.6305 - val_precision_14: 0.6000\n",
      "Epoch 12/30\n",
      "495/495 [==============================] - 1s 2ms/step - loss: 0.6196 - accuracy: 0.6317 - precision_14: 0.6246 - val_loss: 0.6198 - val_accuracy: 0.6318 - val_precision_14: 0.6156\n",
      "Epoch 13/30\n",
      "495/495 [==============================] - 1s 2ms/step - loss: 0.6177 - accuracy: 0.6328 - precision_14: 0.6255 - val_loss: 0.6208 - val_accuracy: 0.6254 - val_precision_14: 0.5985\n",
      "Epoch 14/30\n",
      "495/495 [==============================] - 1s 2ms/step - loss: 0.6174 - accuracy: 0.6341 - precision_14: 0.6319 - val_loss: 0.6243 - val_accuracy: 0.6303 - val_precision_14: 0.5907\n",
      "Epoch 15/30\n",
      "495/495 [==============================] - 1s 2ms/step - loss: 0.6165 - accuracy: 0.6360 - precision_14: 0.6342 - val_loss: 0.6196 - val_accuracy: 0.6269 - val_precision_14: 0.6146\n",
      "Epoch 16/30\n",
      "495/495 [==============================] - 1s 2ms/step - loss: 0.6163 - accuracy: 0.6374 - precision_14: 0.6372 - val_loss: 0.6245 - val_accuracy: 0.6248 - val_precision_14: 0.6040\n",
      "Epoch 17/30\n",
      "495/495 [==============================] - 1s 3ms/step - loss: 0.6158 - accuracy: 0.6377 - precision_14: 0.6326 - val_loss: 0.6202 - val_accuracy: 0.6305 - val_precision_14: 0.6158\n",
      "Epoch 18/30\n",
      "495/495 [==============================] - 1s 3ms/step - loss: 0.6164 - accuracy: 0.6357 - precision_14: 0.6313 - val_loss: 0.6218 - val_accuracy: 0.6314 - val_precision_14: 0.6021\n",
      "Epoch 19/30\n",
      "495/495 [==============================] - 1s 2ms/step - loss: 0.6158 - accuracy: 0.6339 - precision_14: 0.6300 - val_loss: 0.6200 - val_accuracy: 0.6354 - val_precision_14: 0.6096\n",
      "Epoch 20/30\n",
      "495/495 [==============================] - 1s 2ms/step - loss: 0.6148 - accuracy: 0.6378 - precision_14: 0.6349 - val_loss: 0.6276 - val_accuracy: 0.6220 - val_precision_14: 0.5683\n",
      "Epoch 21/30\n",
      "495/495 [==============================] - 1s 2ms/step - loss: 0.6151 - accuracy: 0.6362 - precision_14: 0.6296 - val_loss: 0.6223 - val_accuracy: 0.6313 - val_precision_14: 0.6048\n",
      "Epoch 22/30\n",
      "495/495 [==============================] - 1s 3ms/step - loss: 0.6139 - accuracy: 0.6362 - precision_14: 0.6326 - val_loss: 0.6239 - val_accuracy: 0.6290 - val_precision_14: 0.6130\n",
      "Epoch 23/30\n",
      "495/495 [==============================] - 2s 3ms/step - loss: 0.6131 - accuracy: 0.6390 - precision_14: 0.6380 - val_loss: 0.6256 - val_accuracy: 0.6237 - val_precision_14: 0.5826\n",
      "Epoch 24/30\n",
      "495/495 [==============================] - 1s 2ms/step - loss: 0.6131 - accuracy: 0.6367 - precision_14: 0.6325 - val_loss: 0.6199 - val_accuracy: 0.6335 - val_precision_14: 0.6433\n",
      "Epoch 25/30\n",
      "495/495 [==============================] - 1s 3ms/step - loss: 0.6122 - accuracy: 0.6405 - precision_14: 0.6453 - val_loss: 0.6271 - val_accuracy: 0.6261 - val_precision_14: 0.5932\n",
      "Epoch 26/30\n",
      "495/495 [==============================] - 2s 3ms/step - loss: 0.6123 - accuracy: 0.6411 - precision_14: 0.6430 - val_loss: 0.6245 - val_accuracy: 0.6352 - val_precision_14: 0.6044\n",
      "Epoch 27/30\n",
      "495/495 [==============================] - 1s 2ms/step - loss: 0.6113 - accuracy: 0.6401 - precision_14: 0.6394 - val_loss: 0.6202 - val_accuracy: 0.6356 - val_precision_14: 0.6196\n",
      "Epoch 28/30\n",
      "495/495 [==============================] - 1s 2ms/step - loss: 0.6116 - accuracy: 0.6413 - precision_14: 0.6372 - val_loss: 0.6225 - val_accuracy: 0.6326 - val_precision_14: 0.6160\n",
      "Epoch 29/30\n",
      "495/495 [==============================] - 1s 2ms/step - loss: 0.6109 - accuracy: 0.6402 - precision_14: 0.6372 - val_loss: 0.6255 - val_accuracy: 0.6309 - val_precision_14: 0.6056\n",
      "Epoch 30/30\n",
      "495/495 [==============================] - 1s 2ms/step - loss: 0.6110 - accuracy: 0.6396 - precision_14: 0.6377 - val_loss: 0.6216 - val_accuracy: 0.6314 - val_precision_14: 0.6104\n"
     ]
    }
   ],
   "source": [
    "def get_bce(lambda_, eps=0.01):\n",
    "    def reg(y_true, y_pred):\n",
    "        loss = tf.keras.losses.binary_crossentropy(y_true, y_pred)\n",
    "        false_pos_loss = lambda_ * tf.tensordot((tf.math.log(y_pred + eps)), float(1 - y_true), 0)\n",
    "        return loss + false_pos_loss\n",
    "    return reg\n",
    "\n",
    "def lost(y_true, y_pred):\n",
    "    false_pos_loss = 0.05 * tf.tensordot((tf.math.log(y_pred + 0.01)), float(1 - y_true), 0)\n",
    "    return false_pos_loss\n",
    "\n",
    "model.compile(\n",
    "    loss= get_bce(0.05),\n",
    "    optimizer=tf.keras.optimizers.Adam(learning_rate=1E-3),\n",
    "    metrics=[\"accuracy\", tf.keras.metrics.Precision()]\n",
    ")\n",
    "\n",
    "history = model.fit(\n",
    "    X_train,y_train, \n",
    "    validation_data=(X_val, y_val),\n",
    "    epochs=30\n",
    ")"
   ]
  },
  {
   "cell_type": "code",
   "execution_count": 110,
   "metadata": {},
   "outputs": [
    {
     "name": "stdout",
     "output_type": "stream",
     "text": [
      "165/165 [==============================] - 0s 872us/step\n",
      "[[0.63770018 0.3800136 ]\n",
      " [0.36229982 0.6199864 ]]\n"
     ]
    }
   ],
   "source": [
    "y_prediction = (model.predict(X_test) > 0.5).astype(np.float32)\n",
    "\n",
    "#Create confusion matrix and normalizes it over predicted (columns)\n",
    "x = confusion_matrix(y_test, y_prediction , normalize='pred')\n",
    "print(x)"
   ]
  },
  {
   "cell_type": "code",
   "execution_count": 111,
   "metadata": {},
   "outputs": [
    {
     "name": "stdout",
     "output_type": "stream",
     "text": [
      "165/165 [==============================] - 0s 815us/step\n"
     ]
    }
   ],
   "source": [
    "y_pred_keras = model.predict(X_test).ravel()\n",
    "fpr_keras, tpr_keras, thresholds_keras = roc_curve(y_test, y_pred_keras)\n",
    "auc_keras = auc(fpr_keras, tpr_keras)"
   ]
  },
  {
   "cell_type": "code",
   "execution_count": 52,
   "metadata": {},
   "outputs": [
    {
     "data": {
      "image/png": "[encoded data removed]",
      "text/plain": [
       "<Figure size 640x480 with 1 Axes>"
      ]
     },
     "metadata": {},
     "output_type": "display_data"
    }
   ],
   "source": [
    "plt.figure(1)\n",
    "plt.plot([0, 1], [0, 1], 'k--')\n",
    "plt.plot(fpr_keras, tpr_keras, label='Keras (area = {:.3f})'.format(auc_keras))\n",
    "# plt.plot(fpr_rf, tpr_rf, label='RF (area = {:.3f})'.format(auc_rf))\n",
    "plt.xlabel('False positive rate')\n",
    "plt.ylabel('True positive rate')\n",
    "plt.title('ROC curve')\n",
    "plt.legend(loc='best')\n",
    "plt.show()"
   ]
  }
 ],
 "metadata": {
  "kernelspec": {
   "display_name": "base",
   "language": "python",
   "name": "python3"
  },
  "language_info": {
   "codemirror_mode": {
    "name": "ipython",
    "version": 3
   },
   "file_extension": ".py",
   "mimetype": "text/x-python",
   "name": "python",
   "nbconvert_exporter": "python",
   "pygments_lexer": "ipython3",
   "version": "3.9.12"
  },
  "orig_nbformat": 4,
  "vscode": {
   "interpreter": {
    "hash": "034c544711677ba1767820006f6cbf0160dcbb265606bbc10838d50f88ca1e8b"
   }
  }
 },
 "nbformat": 4,
 "nbformat_minor": 2
}
