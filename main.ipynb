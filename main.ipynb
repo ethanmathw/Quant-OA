{
 "cells": [
  {
   "cell_type": "code",
   "execution_count": 37,
   "metadata": {},
   "outputs": [],
   "source": [
    "import pandas as pd\n",
    "import numpy as np\n",
    "import matplotlib.pyplot as plt\n",
    "import plotly.express as px"
   ]
  },
  {
   "cell_type": "code",
   "execution_count": 38,
   "metadata": {},
   "outputs": [
    {
     "name": "stdout",
     "output_type": "stream",
     "text": [
      "<class 'pandas.core.frame.DataFrame'>\n",
      "Int64Index: 26397 entries, 0 to 29999\n",
      "Data columns (total 18 columns):\n",
      " #   Column              Non-Null Count  Dtype  \n",
      "---  ------              --------------  -----  \n",
      " 0   SeInstructionId     26397 non-null  int64  \n",
      " 1   OrderId             26397 non-null  int64  \n",
      " 2   TimeSe              26397 non-null  object \n",
      " 3   OptionId            26397 non-null  int64  \n",
      " 4   UnderlyingSymbol    26397 non-null  object \n",
      " 5   Expiration          26397 non-null  object \n",
      " 6   Strike              26397 non-null  float64\n",
      " 7   CallPut             26397 non-null  object \n",
      " 8   Side                26397 non-null  object \n",
      " 9   Size                26397 non-null  int64  \n",
      " 10  Price               26397 non-null  float64\n",
      " 11  Exchange            26397 non-null  object \n",
      " 12  MarketSize          26397 non-null  int64  \n",
      " 13  TimeOmOut           26397 non-null  object \n",
      " 14  OrderEventType      26397 non-null  object \n",
      " 15  TimeOmIn            26397 non-null  object \n",
      " 16  OptionIdOmIn        26397 non-null  float64\n",
      " 17  OrderEventTypeOmIn  26397 non-null  object \n",
      "dtypes: float64(3), int64(5), object(10)\n",
      "memory usage: 3.8+ MB\n"
     ]
    }
   ],
   "source": [
    "df = pd.read_csv(\"optionData.csv\")\n",
    "df = df.dropna()\n",
    "df.info()"
   ]
  },
  {
   "cell_type": "code",
   "execution_count": 39,
   "metadata": {},
   "outputs": [
    {
     "data": {
      "text/plain": [
       "0.5590408000909194"
      ]
     },
     "execution_count": 39,
     "metadata": {},
     "output_type": "execute_result"
    }
   ],
   "source": [
    "#split data into Filled and Non Filled, orders rejected by SE are ommitted from following data sets \n",
    "def split(df, target):\n",
    "    df1 = df[df[target] == \"FILL\"]\n",
    "    df2 = df[df[target] == \"CANCEL\"]\n",
    "    return df1, df2\n",
    "filled, nonfilled= split(df, 'OrderEventTypeOmIn')\n",
    "len(nonfilled)/ (len(filled) + len(nonfilled)) \n",
    "#55% of all processed orders are cancelled"
   ]
  },
  {
   "attachments": {},
   "cell_type": "markdown",
   "metadata": {},
   "source": [
    "| Variable Name | Definition | \n",
    "| :- | :- |\n",
    "| SEInstruction ID | Strategy Engine ID |\n",
    "| OrderID | Order ID |\n",
    "| TimeSE | Time Strategy Engine Makes Order |\n",
    "| OptionID | Option ID|\n",
    "| UnderlyingSymbol | Stock |\n",
    "| Expiration | Expiration |\n",
    "| Strike | Strike  |\n",
    "| CallPut | Call or Put |\n",
    "| Side | Buy or Sell |\n",
    "| Size | Size of Order |\n",
    "| Price | Price |\n",
    "| Exchange | Exchange Order is Place |\n",
    "| TimeOmOut | Time OM Recieves Order |\n",
    "| OrderEventType | Reject or New |\n",
    "| TimeOMin | Time OM Send Over |\n",
    "| OptionIdOmin | OptionID |\n",
    "| OrderEventType | Filled or Cancelled |\n"
   ]
  },
  {
   "cell_type": "code",
   "execution_count": 56,
   "metadata": {},
   "outputs": [],
   "source": [
    "def formatTime(time):\n",
    "    x = time.split(\" \")[1].split(\":\")[2]\n",
    "    return x\n",
    "timeOut = pd.to_numeric(df[\"TimeOmOut\"].apply(lambda x: formatTime(x)))\n",
    "timeIn = pd.to_numeric(df[\"TimeOmIn\"].apply(lambda x: formatTime(x)))\n",
    "df[\"Time\"] = timeIn - timeOut\n",
    "def timeOfOrder(time):\n",
    "    x = time.split(\" \")[1].split(\":\")[0] + time.split(\" \")[1].split(\":\")[1]\n",
    "    x = pd.to_numeric(x)\n",
    "    return x\n",
    "df[\"TimeOfOrder\"] = (df[\"TimeOmOut\"].apply(lambda x: timeOfOrder(x)))\n"
   ]
  },
  {
   "cell_type": "markdown",
   "metadata": {},
   "source": [
    "## Improving our Fill Rate\n",
    "For this end of the report, we need to look for variables that might contribute to a higher or lower fill rate. Some factors that might contribute to this is the exchange the stock is sold in, the stock that is being traded and the size of the order itself. Here, I will begin analyzing how these factors influence the fill rate and potentially build a better strategy. "
   ]
  },
  {
   "cell_type": "code",
   "execution_count": 59,
   "metadata": {},
   "outputs": [
    {
     "name": "stderr",
     "output_type": "stream",
     "text": [
      "/var/folders/pk/vjdnd39913sgqxdcnpt9gxc00000gn/T/ipykernel_14256/1240392541.py:13: FutureWarning:\n",
      "\n",
      "The default value of numeric_only in DataFrame.corr is deprecated. In a future version, it will default to False. Select only valid columns or specify the value of numeric_only to silence this warning.\n",
      "\n"
     ]
    },
    {
     "data": {
      "text/html": [
       "<div>\n",
       "<style scoped>\n",
       "    .dataframe tbody tr th:only-of-type {\n",
       "        vertical-align: middle;\n",
       "    }\n",
       "\n",
       "    .dataframe tbody tr th {\n",
       "        vertical-align: top;\n",
       "    }\n",
       "\n",
       "    .dataframe thead th {\n",
       "        text-align: right;\n",
       "    }\n",
       "</style>\n",
       "<table border=\"1\" class=\"dataframe\">\n",
       "  <thead>\n",
       "    <tr style=\"text-align: right;\">\n",
       "      <th></th>\n",
       "      <th>Strike</th>\n",
       "      <th>Size</th>\n",
       "      <th>Price</th>\n",
       "      <th>MarketSize</th>\n",
       "      <th>Time</th>\n",
       "      <th>TimeOfOrder</th>\n",
       "      <th>AAPL</th>\n",
       "      <th>AMD</th>\n",
       "      <th>AMZN</th>\n",
       "      <th>BABA</th>\n",
       "      <th>...</th>\n",
       "      <th>C</th>\n",
       "      <th>P</th>\n",
       "      <th>B</th>\n",
       "      <th>S</th>\n",
       "      <th>AMEX</th>\n",
       "      <th>CBOE</th>\n",
       "      <th>ISE</th>\n",
       "      <th>PHLX</th>\n",
       "      <th>CANCEL</th>\n",
       "      <th>FILL</th>\n",
       "    </tr>\n",
       "  </thead>\n",
       "  <tbody>\n",
       "    <tr>\n",
       "      <th>Strike</th>\n",
       "      <td>1.000000</td>\n",
       "      <td>-0.178323</td>\n",
       "      <td>0.547318</td>\n",
       "      <td>-0.212931</td>\n",
       "      <td>0.008402</td>\n",
       "      <td>-0.017089</td>\n",
       "      <td>-0.094061</td>\n",
       "      <td>-0.103475</td>\n",
       "      <td>0.730269</td>\n",
       "      <td>-0.083021</td>\n",
       "      <td>...</td>\n",
       "      <td>-0.006807</td>\n",
       "      <td>0.006807</td>\n",
       "      <td>-0.003816</td>\n",
       "      <td>0.003816</td>\n",
       "      <td>0.000774</td>\n",
       "      <td>-0.004159</td>\n",
       "      <td>-0.009056</td>\n",
       "      <td>0.012441</td>\n",
       "      <td>0.011663</td>\n",
       "      <td>-0.011663</td>\n",
       "    </tr>\n",
       "    <tr>\n",
       "      <th>Size</th>\n",
       "      <td>-0.178323</td>\n",
       "      <td>1.000000</td>\n",
       "      <td>-0.111529</td>\n",
       "      <td>0.848815</td>\n",
       "      <td>0.007158</td>\n",
       "      <td>0.012327</td>\n",
       "      <td>-0.003180</td>\n",
       "      <td>-0.020356</td>\n",
       "      <td>-0.087640</td>\n",
       "      <td>-0.031200</td>\n",
       "      <td>...</td>\n",
       "      <td>0.025781</td>\n",
       "      <td>-0.025781</td>\n",
       "      <td>0.001416</td>\n",
       "      <td>-0.001416</td>\n",
       "      <td>0.013079</td>\n",
       "      <td>-0.000200</td>\n",
       "      <td>-0.002949</td>\n",
       "      <td>-0.010014</td>\n",
       "      <td>0.078869</td>\n",
       "      <td>-0.078869</td>\n",
       "    </tr>\n",
       "    <tr>\n",
       "      <th>Price</th>\n",
       "      <td>0.547318</td>\n",
       "      <td>-0.111529</td>\n",
       "      <td>1.000000</td>\n",
       "      <td>-0.133468</td>\n",
       "      <td>0.001500</td>\n",
       "      <td>-0.012304</td>\n",
       "      <td>-0.057654</td>\n",
       "      <td>-0.055147</td>\n",
       "      <td>0.378968</td>\n",
       "      <td>-0.022587</td>\n",
       "      <td>...</td>\n",
       "      <td>-0.036586</td>\n",
       "      <td>0.036586</td>\n",
       "      <td>0.000634</td>\n",
       "      <td>-0.000634</td>\n",
       "      <td>-0.007910</td>\n",
       "      <td>-0.005452</td>\n",
       "      <td>-0.001978</td>\n",
       "      <td>0.015394</td>\n",
       "      <td>0.037585</td>\n",
       "      <td>-0.037585</td>\n",
       "    </tr>\n",
       "    <tr>\n",
       "      <th>MarketSize</th>\n",
       "      <td>-0.212931</td>\n",
       "      <td>0.848815</td>\n",
       "      <td>-0.133468</td>\n",
       "      <td>1.000000</td>\n",
       "      <td>0.002162</td>\n",
       "      <td>0.011280</td>\n",
       "      <td>-0.001555</td>\n",
       "      <td>-0.022661</td>\n",
       "      <td>-0.104731</td>\n",
       "      <td>-0.038463</td>\n",
       "      <td>...</td>\n",
       "      <td>0.035968</td>\n",
       "      <td>-0.035968</td>\n",
       "      <td>-0.002144</td>\n",
       "      <td>0.002144</td>\n",
       "      <td>0.007286</td>\n",
       "      <td>0.008672</td>\n",
       "      <td>-0.007390</td>\n",
       "      <td>-0.008617</td>\n",
       "      <td>0.009965</td>\n",
       "      <td>-0.009965</td>\n",
       "    </tr>\n",
       "    <tr>\n",
       "      <th>Time</th>\n",
       "      <td>0.008402</td>\n",
       "      <td>0.007158</td>\n",
       "      <td>0.001500</td>\n",
       "      <td>0.002162</td>\n",
       "      <td>1.000000</td>\n",
       "      <td>0.003210</td>\n",
       "      <td>-0.004332</td>\n",
       "      <td>-0.008080</td>\n",
       "      <td>0.009458</td>\n",
       "      <td>-0.001280</td>\n",
       "      <td>...</td>\n",
       "      <td>0.012676</td>\n",
       "      <td>-0.012676</td>\n",
       "      <td>-0.004709</td>\n",
       "      <td>0.004709</td>\n",
       "      <td>0.812543</td>\n",
       "      <td>-0.547048</td>\n",
       "      <td>-0.546899</td>\n",
       "      <td>0.276576</td>\n",
       "      <td>-0.033463</td>\n",
       "      <td>0.033463</td>\n",
       "    </tr>\n",
       "    <tr>\n",
       "      <th>TimeOfOrder</th>\n",
       "      <td>-0.017089</td>\n",
       "      <td>0.012327</td>\n",
       "      <td>-0.012304</td>\n",
       "      <td>0.011280</td>\n",
       "      <td>0.003210</td>\n",
       "      <td>1.000000</td>\n",
       "      <td>0.006888</td>\n",
       "      <td>0.006997</td>\n",
       "      <td>-0.012715</td>\n",
       "      <td>0.007338</td>\n",
       "      <td>...</td>\n",
       "      <td>0.001338</td>\n",
       "      <td>-0.001338</td>\n",
       "      <td>-0.010229</td>\n",
       "      <td>0.010229</td>\n",
       "      <td>0.002356</td>\n",
       "      <td>-0.005068</td>\n",
       "      <td>0.001477</td>\n",
       "      <td>0.001223</td>\n",
       "      <td>-0.012046</td>\n",
       "      <td>0.012046</td>\n",
       "    </tr>\n",
       "    <tr>\n",
       "      <th>AAPL</th>\n",
       "      <td>-0.094061</td>\n",
       "      <td>-0.003180</td>\n",
       "      <td>-0.057654</td>\n",
       "      <td>-0.001555</td>\n",
       "      <td>-0.004332</td>\n",
       "      <td>0.006888</td>\n",
       "      <td>1.000000</td>\n",
       "      <td>-0.047438</td>\n",
       "      <td>-0.048120</td>\n",
       "      <td>-0.047083</td>\n",
       "      <td>...</td>\n",
       "      <td>-0.005678</td>\n",
       "      <td>0.005678</td>\n",
       "      <td>-0.006608</td>\n",
       "      <td>0.006608</td>\n",
       "      <td>-0.001865</td>\n",
       "      <td>0.004185</td>\n",
       "      <td>0.001736</td>\n",
       "      <td>-0.004047</td>\n",
       "      <td>0.001771</td>\n",
       "      <td>-0.001771</td>\n",
       "    </tr>\n",
       "    <tr>\n",
       "      <th>AMD</th>\n",
       "      <td>-0.103475</td>\n",
       "      <td>-0.020356</td>\n",
       "      <td>-0.055147</td>\n",
       "      <td>-0.022661</td>\n",
       "      <td>-0.008080</td>\n",
       "      <td>0.006997</td>\n",
       "      <td>-0.047438</td>\n",
       "      <td>1.000000</td>\n",
       "      <td>-0.048057</td>\n",
       "      <td>-0.047021</td>\n",
       "      <td>...</td>\n",
       "      <td>0.006523</td>\n",
       "      <td>-0.006523</td>\n",
       "      <td>0.001228</td>\n",
       "      <td>-0.001228</td>\n",
       "      <td>-0.008253</td>\n",
       "      <td>0.009985</td>\n",
       "      <td>-0.002164</td>\n",
       "      <td>0.000481</td>\n",
       "      <td>0.006060</td>\n",
       "      <td>-0.006060</td>\n",
       "    </tr>\n",
       "    <tr>\n",
       "      <th>AMZN</th>\n",
       "      <td>0.730269</td>\n",
       "      <td>-0.087640</td>\n",
       "      <td>0.378968</td>\n",
       "      <td>-0.104731</td>\n",
       "      <td>0.009458</td>\n",
       "      <td>-0.012715</td>\n",
       "      <td>-0.048120</td>\n",
       "      <td>-0.048057</td>\n",
       "      <td>1.000000</td>\n",
       "      <td>-0.047698</td>\n",
       "      <td>...</td>\n",
       "      <td>-0.009490</td>\n",
       "      <td>0.009490</td>\n",
       "      <td>0.000976</td>\n",
       "      <td>-0.000976</td>\n",
       "      <td>0.004111</td>\n",
       "      <td>-0.005214</td>\n",
       "      <td>-0.007635</td>\n",
       "      <td>0.008716</td>\n",
       "      <td>0.017779</td>\n",
       "      <td>-0.017779</td>\n",
       "    </tr>\n",
       "    <tr>\n",
       "      <th>BABA</th>\n",
       "      <td>-0.083021</td>\n",
       "      <td>-0.031200</td>\n",
       "      <td>-0.022587</td>\n",
       "      <td>-0.038463</td>\n",
       "      <td>-0.001280</td>\n",
       "      <td>0.007338</td>\n",
       "      <td>-0.047083</td>\n",
       "      <td>-0.047021</td>\n",
       "      <td>-0.047698</td>\n",
       "      <td>1.000000</td>\n",
       "      <td>...</td>\n",
       "      <td>-0.006145</td>\n",
       "      <td>0.006145</td>\n",
       "      <td>-0.002956</td>\n",
       "      <td>0.002956</td>\n",
       "      <td>0.004056</td>\n",
       "      <td>-0.004278</td>\n",
       "      <td>0.008957</td>\n",
       "      <td>-0.008762</td>\n",
       "      <td>-0.000366</td>\n",
       "      <td>0.000366</td>\n",
       "    </tr>\n",
       "    <tr>\n",
       "      <th>DE</th>\n",
       "      <td>-0.042878</td>\n",
       "      <td>-0.065177</td>\n",
       "      <td>-0.024211</td>\n",
       "      <td>-0.078496</td>\n",
       "      <td>-0.001371</td>\n",
       "      <td>-0.002478</td>\n",
       "      <td>-0.048387</td>\n",
       "      <td>-0.048323</td>\n",
       "      <td>-0.049019</td>\n",
       "      <td>-0.047962</td>\n",
       "      <td>...</td>\n",
       "      <td>-0.006722</td>\n",
       "      <td>0.006722</td>\n",
       "      <td>-0.002452</td>\n",
       "      <td>0.002452</td>\n",
       "      <td>-0.005497</td>\n",
       "      <td>-0.006114</td>\n",
       "      <td>0.004730</td>\n",
       "      <td>0.006919</td>\n",
       "      <td>0.004612</td>\n",
       "      <td>-0.004612</td>\n",
       "    </tr>\n",
       "    <tr>\n",
       "      <th>F</th>\n",
       "      <td>-0.124657</td>\n",
       "      <td>0.220876</td>\n",
       "      <td>-0.072803</td>\n",
       "      <td>0.253761</td>\n",
       "      <td>0.002757</td>\n",
       "      <td>0.004222</td>\n",
       "      <td>-0.046557</td>\n",
       "      <td>-0.046496</td>\n",
       "      <td>-0.047165</td>\n",
       "      <td>-0.046148</td>\n",
       "      <td>...</td>\n",
       "      <td>0.002439</td>\n",
       "      <td>-0.002439</td>\n",
       "      <td>0.002435</td>\n",
       "      <td>-0.002435</td>\n",
       "      <td>0.006800</td>\n",
       "      <td>0.002635</td>\n",
       "      <td>-0.002436</td>\n",
       "      <td>-0.007044</td>\n",
       "      <td>-0.010463</td>\n",
       "      <td>0.010463</td>\n",
       "    </tr>\n",
       "    <tr>\n",
       "      <th>FB</th>\n",
       "      <td>-0.043475</td>\n",
       "      <td>-0.067728</td>\n",
       "      <td>-0.022121</td>\n",
       "      <td>-0.081624</td>\n",
       "      <td>-0.001547</td>\n",
       "      <td>-0.000645</td>\n",
       "      <td>-0.048161</td>\n",
       "      <td>-0.048098</td>\n",
       "      <td>-0.048790</td>\n",
       "      <td>-0.047738</td>\n",
       "      <td>...</td>\n",
       "      <td>-0.001565</td>\n",
       "      <td>0.001565</td>\n",
       "      <td>0.001691</td>\n",
       "      <td>-0.001691</td>\n",
       "      <td>-0.001475</td>\n",
       "      <td>0.013710</td>\n",
       "      <td>-0.011995</td>\n",
       "      <td>-0.000234</td>\n",
       "      <td>0.001789</td>\n",
       "      <td>-0.001789</td>\n",
       "    </tr>\n",
       "    <tr>\n",
       "      <th>GDX</th>\n",
       "      <td>-0.122266</td>\n",
       "      <td>0.318417</td>\n",
       "      <td>-0.071622</td>\n",
       "      <td>0.386802</td>\n",
       "      <td>0.000334</td>\n",
       "      <td>0.006349</td>\n",
       "      <td>-0.047271</td>\n",
       "      <td>-0.047209</td>\n",
       "      <td>-0.047888</td>\n",
       "      <td>-0.046856</td>\n",
       "      <td>...</td>\n",
       "      <td>-0.007744</td>\n",
       "      <td>0.007744</td>\n",
       "      <td>0.003441</td>\n",
       "      <td>-0.003441</td>\n",
       "      <td>0.003503</td>\n",
       "      <td>0.003248</td>\n",
       "      <td>-0.001752</td>\n",
       "      <td>-0.005023</td>\n",
       "      <td>-0.002955</td>\n",
       "      <td>0.002955</td>\n",
       "    </tr>\n",
       "    <tr>\n",
       "      <th>GE</th>\n",
       "      <td>-0.102944</td>\n",
       "      <td>0.029212</td>\n",
       "      <td>-0.058692</td>\n",
       "      <td>0.037564</td>\n",
       "      <td>-0.007144</td>\n",
       "      <td>0.000311</td>\n",
       "      <td>-0.047062</td>\n",
       "      <td>-0.047000</td>\n",
       "      <td>-0.047676</td>\n",
       "      <td>-0.046649</td>\n",
       "      <td>...</td>\n",
       "      <td>-0.004498</td>\n",
       "      <td>0.004498</td>\n",
       "      <td>-0.001670</td>\n",
       "      <td>0.001670</td>\n",
       "      <td>0.000788</td>\n",
       "      <td>0.001346</td>\n",
       "      <td>0.010765</td>\n",
       "      <td>-0.012908</td>\n",
       "      <td>-0.003118</td>\n",
       "      <td>0.003118</td>\n",
       "    </tr>\n",
       "    <tr>\n",
       "      <th>GOOG</th>\n",
       "      <td>0.589606</td>\n",
       "      <td>-0.087771</td>\n",
       "      <td>0.321885</td>\n",
       "      <td>-0.104922</td>\n",
       "      <td>-0.006011</td>\n",
       "      <td>-0.006403</td>\n",
       "      <td>-0.047375</td>\n",
       "      <td>-0.047313</td>\n",
       "      <td>-0.047994</td>\n",
       "      <td>-0.046959</td>\n",
       "      <td>...</td>\n",
       "      <td>-0.002057</td>\n",
       "      <td>0.002057</td>\n",
       "      <td>-0.009169</td>\n",
       "      <td>0.009169</td>\n",
       "      <td>-0.007105</td>\n",
       "      <td>0.006092</td>\n",
       "      <td>-0.001007</td>\n",
       "      <td>0.002063</td>\n",
       "      <td>-0.005447</td>\n",
       "      <td>0.005447</td>\n",
       "    </tr>\n",
       "    <tr>\n",
       "      <th>GS</th>\n",
       "      <td>-0.031508</td>\n",
       "      <td>-0.050483</td>\n",
       "      <td>-0.006156</td>\n",
       "      <td>-0.063281</td>\n",
       "      <td>0.005633</td>\n",
       "      <td>-0.012267</td>\n",
       "      <td>-0.048182</td>\n",
       "      <td>-0.048119</td>\n",
       "      <td>-0.048811</td>\n",
       "      <td>-0.047759</td>\n",
       "      <td>...</td>\n",
       "      <td>-0.000663</td>\n",
       "      <td>0.000663</td>\n",
       "      <td>-0.008916</td>\n",
       "      <td>0.008916</td>\n",
       "      <td>0.007924</td>\n",
       "      <td>0.000716</td>\n",
       "      <td>-0.004610</td>\n",
       "      <td>-0.004080</td>\n",
       "      <td>0.007740</td>\n",
       "      <td>-0.007740</td>\n",
       "    </tr>\n",
       "    <tr>\n",
       "      <th>INTC</th>\n",
       "      <td>-0.115596</td>\n",
       "      <td>0.001295</td>\n",
       "      <td>-0.068210</td>\n",
       "      <td>-0.001497</td>\n",
       "      <td>-0.004741</td>\n",
       "      <td>0.003244</td>\n",
       "      <td>-0.046894</td>\n",
       "      <td>-0.046833</td>\n",
       "      <td>-0.047506</td>\n",
       "      <td>-0.046482</td>\n",
       "      <td>...</td>\n",
       "      <td>-0.001586</td>\n",
       "      <td>0.001586</td>\n",
       "      <td>0.000918</td>\n",
       "      <td>-0.000918</td>\n",
       "      <td>-0.005549</td>\n",
       "      <td>-0.002061</td>\n",
       "      <td>0.006109</td>\n",
       "      <td>0.001536</td>\n",
       "      <td>-0.005921</td>\n",
       "      <td>0.005921</td>\n",
       "    </tr>\n",
       "    <tr>\n",
       "      <th>IWM</th>\n",
       "      <td>-0.074630</td>\n",
       "      <td>-0.042938</td>\n",
       "      <td>-0.049429</td>\n",
       "      <td>-0.048183</td>\n",
       "      <td>0.000937</td>\n",
       "      <td>0.001613</td>\n",
       "      <td>-0.047811</td>\n",
       "      <td>-0.047748</td>\n",
       "      <td>-0.048435</td>\n",
       "      <td>-0.047391</td>\n",
       "      <td>...</td>\n",
       "      <td>0.003266</td>\n",
       "      <td>-0.003266</td>\n",
       "      <td>0.008791</td>\n",
       "      <td>-0.008791</td>\n",
       "      <td>0.002389</td>\n",
       "      <td>-0.005774</td>\n",
       "      <td>0.005605</td>\n",
       "      <td>-0.002234</td>\n",
       "      <td>0.001255</td>\n",
       "      <td>-0.001255</td>\n",
       "    </tr>\n",
       "    <tr>\n",
       "      <th>MSFT</th>\n",
       "      <td>-0.053758</td>\n",
       "      <td>-0.054424</td>\n",
       "      <td>-0.038032</td>\n",
       "      <td>-0.063627</td>\n",
       "      <td>-0.010008</td>\n",
       "      <td>-0.006161</td>\n",
       "      <td>-0.048017</td>\n",
       "      <td>-0.047954</td>\n",
       "      <td>-0.048644</td>\n",
       "      <td>-0.047596</td>\n",
       "      <td>...</td>\n",
       "      <td>0.013739</td>\n",
       "      <td>-0.013739</td>\n",
       "      <td>-0.003521</td>\n",
       "      <td>0.003521</td>\n",
       "      <td>-0.007789</td>\n",
       "      <td>-0.000953</td>\n",
       "      <td>0.012052</td>\n",
       "      <td>-0.003263</td>\n",
       "      <td>-0.008042</td>\n",
       "      <td>0.008042</td>\n",
       "    </tr>\n",
       "    <tr>\n",
       "      <th>NFLX</th>\n",
       "      <td>0.033567</td>\n",
       "      <td>-0.060823</td>\n",
       "      <td>0.031387</td>\n",
       "      <td>-0.073352</td>\n",
       "      <td>0.004685</td>\n",
       "      <td>0.002366</td>\n",
       "      <td>-0.047542</td>\n",
       "      <td>-0.047479</td>\n",
       "      <td>-0.048162</td>\n",
       "      <td>-0.047124</td>\n",
       "      <td>...</td>\n",
       "      <td>0.006341</td>\n",
       "      <td>-0.006341</td>\n",
       "      <td>0.004310</td>\n",
       "      <td>-0.004310</td>\n",
       "      <td>-0.002076</td>\n",
       "      <td>-0.004862</td>\n",
       "      <td>-0.003945</td>\n",
       "      <td>0.010901</td>\n",
       "      <td>-0.002671</td>\n",
       "      <td>0.002671</td>\n",
       "    </tr>\n",
       "    <tr>\n",
       "      <th>NVDA</th>\n",
       "      <td>-0.077959</td>\n",
       "      <td>-0.045209</td>\n",
       "      <td>-0.035041</td>\n",
       "      <td>-0.055383</td>\n",
       "      <td>0.008134</td>\n",
       "      <td>0.009834</td>\n",
       "      <td>-0.048734</td>\n",
       "      <td>-0.048670</td>\n",
       "      <td>-0.049370</td>\n",
       "      <td>-0.048306</td>\n",
       "      <td>...</td>\n",
       "      <td>0.006354</td>\n",
       "      <td>-0.006354</td>\n",
       "      <td>0.004473</td>\n",
       "      <td>-0.004473</td>\n",
       "      <td>0.009133</td>\n",
       "      <td>-0.002880</td>\n",
       "      <td>-0.004448</td>\n",
       "      <td>-0.001862</td>\n",
       "      <td>0.001536</td>\n",
       "      <td>-0.001536</td>\n",
       "    </tr>\n",
       "    <tr>\n",
       "      <th>QQQ</th>\n",
       "      <td>-0.037500</td>\n",
       "      <td>-0.056034</td>\n",
       "      <td>-0.036388</td>\n",
       "      <td>-0.062049</td>\n",
       "      <td>0.001784</td>\n",
       "      <td>-0.015282</td>\n",
       "      <td>-0.049099</td>\n",
       "      <td>-0.049035</td>\n",
       "      <td>-0.049740</td>\n",
       "      <td>-0.048668</td>\n",
       "      <td>...</td>\n",
       "      <td>0.002117</td>\n",
       "      <td>-0.002117</td>\n",
       "      <td>0.006180</td>\n",
       "      <td>-0.006180</td>\n",
       "      <td>-0.002937</td>\n",
       "      <td>-0.002649</td>\n",
       "      <td>-0.002161</td>\n",
       "      <td>0.007768</td>\n",
       "      <td>-0.007750</td>\n",
       "      <td>0.007750</td>\n",
       "    </tr>\n",
       "    <tr>\n",
       "      <th>SPY</th>\n",
       "      <td>-0.018193</td>\n",
       "      <td>0.037651</td>\n",
       "      <td>-0.033800</td>\n",
       "      <td>0.043263</td>\n",
       "      <td>0.000327</td>\n",
       "      <td>0.002169</td>\n",
       "      <td>-0.047438</td>\n",
       "      <td>-0.047375</td>\n",
       "      <td>-0.048057</td>\n",
       "      <td>-0.047021</td>\n",
       "      <td>...</td>\n",
       "      <td>0.006158</td>\n",
       "      <td>-0.006158</td>\n",
       "      <td>0.001957</td>\n",
       "      <td>-0.001957</td>\n",
       "      <td>-0.006577</td>\n",
       "      <td>-0.003083</td>\n",
       "      <td>-0.001742</td>\n",
       "      <td>0.011447</td>\n",
       "      <td>-0.001650</td>\n",
       "      <td>0.001650</td>\n",
       "    </tr>\n",
       "    <tr>\n",
       "      <th>TLT</th>\n",
       "      <td>-0.091035</td>\n",
       "      <td>0.024881</td>\n",
       "      <td>-0.063403</td>\n",
       "      <td>0.033305</td>\n",
       "      <td>-0.007042</td>\n",
       "      <td>0.011817</td>\n",
       "      <td>-0.046154</td>\n",
       "      <td>-0.046094</td>\n",
       "      <td>-0.046757</td>\n",
       "      <td>-0.045749</td>\n",
       "      <td>...</td>\n",
       "      <td>-0.007876</td>\n",
       "      <td>0.007876</td>\n",
       "      <td>0.002675</td>\n",
       "      <td>-0.002675</td>\n",
       "      <td>-0.003536</td>\n",
       "      <td>0.012049</td>\n",
       "      <td>-0.003005</td>\n",
       "      <td>-0.005490</td>\n",
       "      <td>-0.002030</td>\n",
       "      <td>0.002030</td>\n",
       "    </tr>\n",
       "    <tr>\n",
       "      <th>TSLA</th>\n",
       "      <td>0.078875</td>\n",
       "      <td>-0.077429</td>\n",
       "      <td>0.104977</td>\n",
       "      <td>-0.092816</td>\n",
       "      <td>0.015323</td>\n",
       "      <td>-0.001877</td>\n",
       "      <td>-0.047728</td>\n",
       "      <td>-0.047665</td>\n",
       "      <td>-0.048351</td>\n",
       "      <td>-0.047309</td>\n",
       "      <td>...</td>\n",
       "      <td>0.010876</td>\n",
       "      <td>-0.010876</td>\n",
       "      <td>0.001923</td>\n",
       "      <td>-0.001923</td>\n",
       "      <td>0.011983</td>\n",
       "      <td>-0.016265</td>\n",
       "      <td>-0.000677</td>\n",
       "      <td>0.004890</td>\n",
       "      <td>0.000613</td>\n",
       "      <td>-0.000613</td>\n",
       "    </tr>\n",
       "    <tr>\n",
       "      <th>TWTR</th>\n",
       "      <td>-0.113922</td>\n",
       "      <td>0.037853</td>\n",
       "      <td>-0.063514</td>\n",
       "      <td>0.040239</td>\n",
       "      <td>-0.002270</td>\n",
       "      <td>0.004807</td>\n",
       "      <td>-0.047229</td>\n",
       "      <td>-0.047167</td>\n",
       "      <td>-0.047846</td>\n",
       "      <td>-0.046814</td>\n",
       "      <td>...</td>\n",
       "      <td>0.003227</td>\n",
       "      <td>-0.003227</td>\n",
       "      <td>-0.003875</td>\n",
       "      <td>0.003875</td>\n",
       "      <td>-0.001750</td>\n",
       "      <td>0.003038</td>\n",
       "      <td>-0.000272</td>\n",
       "      <td>-0.001005</td>\n",
       "      <td>0.001878</td>\n",
       "      <td>-0.001878</td>\n",
       "    </tr>\n",
       "    <tr>\n",
       "      <th>USO</th>\n",
       "      <td>-0.114525</td>\n",
       "      <td>0.095841</td>\n",
       "      <td>-0.065765</td>\n",
       "      <td>0.116220</td>\n",
       "      <td>0.003875</td>\n",
       "      <td>-0.009131</td>\n",
       "      <td>-0.046430</td>\n",
       "      <td>-0.046369</td>\n",
       "      <td>-0.047036</td>\n",
       "      <td>-0.046022</td>\n",
       "      <td>...</td>\n",
       "      <td>-0.007611</td>\n",
       "      <td>0.007611</td>\n",
       "      <td>-0.002010</td>\n",
       "      <td>0.002010</td>\n",
       "      <td>0.003621</td>\n",
       "      <td>-0.002304</td>\n",
       "      <td>-0.001800</td>\n",
       "      <td>0.000462</td>\n",
       "      <td>0.004994</td>\n",
       "      <td>-0.004994</td>\n",
       "    </tr>\n",
       "    <tr>\n",
       "      <th>C</th>\n",
       "      <td>-0.006807</td>\n",
       "      <td>0.025781</td>\n",
       "      <td>-0.036586</td>\n",
       "      <td>0.035968</td>\n",
       "      <td>0.012676</td>\n",
       "      <td>0.001338</td>\n",
       "      <td>-0.005678</td>\n",
       "      <td>0.006523</td>\n",
       "      <td>-0.009490</td>\n",
       "      <td>-0.006145</td>\n",
       "      <td>...</td>\n",
       "      <td>1.000000</td>\n",
       "      <td>-1.000000</td>\n",
       "      <td>0.006619</td>\n",
       "      <td>-0.006619</td>\n",
       "      <td>0.013729</td>\n",
       "      <td>-0.006934</td>\n",
       "      <td>-0.004662</td>\n",
       "      <td>-0.002217</td>\n",
       "      <td>0.006616</td>\n",
       "      <td>-0.006616</td>\n",
       "    </tr>\n",
       "    <tr>\n",
       "      <th>P</th>\n",
       "      <td>0.006807</td>\n",
       "      <td>-0.025781</td>\n",
       "      <td>0.036586</td>\n",
       "      <td>-0.035968</td>\n",
       "      <td>-0.012676</td>\n",
       "      <td>-0.001338</td>\n",
       "      <td>0.005678</td>\n",
       "      <td>-0.006523</td>\n",
       "      <td>0.009490</td>\n",
       "      <td>0.006145</td>\n",
       "      <td>...</td>\n",
       "      <td>-1.000000</td>\n",
       "      <td>1.000000</td>\n",
       "      <td>-0.006619</td>\n",
       "      <td>0.006619</td>\n",
       "      <td>-0.013729</td>\n",
       "      <td>0.006934</td>\n",
       "      <td>0.004662</td>\n",
       "      <td>0.002217</td>\n",
       "      <td>-0.006616</td>\n",
       "      <td>0.006616</td>\n",
       "    </tr>\n",
       "    <tr>\n",
       "      <th>B</th>\n",
       "      <td>-0.003816</td>\n",
       "      <td>0.001416</td>\n",
       "      <td>0.000634</td>\n",
       "      <td>-0.002144</td>\n",
       "      <td>-0.004709</td>\n",
       "      <td>-0.010229</td>\n",
       "      <td>-0.006608</td>\n",
       "      <td>0.001228</td>\n",
       "      <td>0.000976</td>\n",
       "      <td>-0.002956</td>\n",
       "      <td>...</td>\n",
       "      <td>0.006619</td>\n",
       "      <td>-0.006619</td>\n",
       "      <td>1.000000</td>\n",
       "      <td>-1.000000</td>\n",
       "      <td>-0.000969</td>\n",
       "      <td>0.003942</td>\n",
       "      <td>0.002895</td>\n",
       "      <td>-0.005865</td>\n",
       "      <td>-0.007951</td>\n",
       "      <td>0.007951</td>\n",
       "    </tr>\n",
       "    <tr>\n",
       "      <th>S</th>\n",
       "      <td>0.003816</td>\n",
       "      <td>-0.001416</td>\n",
       "      <td>-0.000634</td>\n",
       "      <td>0.002144</td>\n",
       "      <td>0.004709</td>\n",
       "      <td>0.010229</td>\n",
       "      <td>0.006608</td>\n",
       "      <td>-0.001228</td>\n",
       "      <td>-0.000976</td>\n",
       "      <td>0.002956</td>\n",
       "      <td>...</td>\n",
       "      <td>-0.006619</td>\n",
       "      <td>0.006619</td>\n",
       "      <td>-1.000000</td>\n",
       "      <td>1.000000</td>\n",
       "      <td>0.000969</td>\n",
       "      <td>-0.003942</td>\n",
       "      <td>-0.002895</td>\n",
       "      <td>0.005865</td>\n",
       "      <td>0.007951</td>\n",
       "      <td>-0.007951</td>\n",
       "    </tr>\n",
       "    <tr>\n",
       "      <th>AMEX</th>\n",
       "      <td>0.000774</td>\n",
       "      <td>0.013079</td>\n",
       "      <td>-0.007910</td>\n",
       "      <td>0.007286</td>\n",
       "      <td>0.812543</td>\n",
       "      <td>0.002356</td>\n",
       "      <td>-0.001865</td>\n",
       "      <td>-0.008253</td>\n",
       "      <td>0.004111</td>\n",
       "      <td>0.004056</td>\n",
       "      <td>...</td>\n",
       "      <td>0.013729</td>\n",
       "      <td>-0.013729</td>\n",
       "      <td>-0.000969</td>\n",
       "      <td>0.000969</td>\n",
       "      <td>1.000000</td>\n",
       "      <td>-0.335564</td>\n",
       "      <td>-0.335428</td>\n",
       "      <td>-0.335225</td>\n",
       "      <td>0.044708</td>\n",
       "      <td>-0.044708</td>\n",
       "    </tr>\n",
       "    <tr>\n",
       "      <th>CBOE</th>\n",
       "      <td>-0.004159</td>\n",
       "      <td>-0.000200</td>\n",
       "      <td>-0.005452</td>\n",
       "      <td>0.008672</td>\n",
       "      <td>-0.547048</td>\n",
       "      <td>-0.005068</td>\n",
       "      <td>0.004185</td>\n",
       "      <td>0.009985</td>\n",
       "      <td>-0.005214</td>\n",
       "      <td>-0.004278</td>\n",
       "      <td>...</td>\n",
       "      <td>-0.006934</td>\n",
       "      <td>0.006934</td>\n",
       "      <td>0.003942</td>\n",
       "      <td>-0.003942</td>\n",
       "      <td>-0.335564</td>\n",
       "      <td>1.000000</td>\n",
       "      <td>-0.331433</td>\n",
       "      <td>-0.331232</td>\n",
       "      <td>0.037304</td>\n",
       "      <td>-0.037304</td>\n",
       "    </tr>\n",
       "    <tr>\n",
       "      <th>ISE</th>\n",
       "      <td>-0.009056</td>\n",
       "      <td>-0.002949</td>\n",
       "      <td>-0.001978</td>\n",
       "      <td>-0.007390</td>\n",
       "      <td>-0.546899</td>\n",
       "      <td>0.001477</td>\n",
       "      <td>0.001736</td>\n",
       "      <td>-0.002164</td>\n",
       "      <td>-0.007635</td>\n",
       "      <td>0.008957</td>\n",
       "      <td>...</td>\n",
       "      <td>-0.004662</td>\n",
       "      <td>0.004662</td>\n",
       "      <td>0.002895</td>\n",
       "      <td>-0.002895</td>\n",
       "      <td>-0.335428</td>\n",
       "      <td>-0.331433</td>\n",
       "      <td>1.000000</td>\n",
       "      <td>-0.331098</td>\n",
       "      <td>0.045648</td>\n",
       "      <td>-0.045648</td>\n",
       "    </tr>\n",
       "    <tr>\n",
       "      <th>PHLX</th>\n",
       "      <td>0.012441</td>\n",
       "      <td>-0.010014</td>\n",
       "      <td>0.015394</td>\n",
       "      <td>-0.008617</td>\n",
       "      <td>0.276576</td>\n",
       "      <td>0.001223</td>\n",
       "      <td>-0.004047</td>\n",
       "      <td>0.000481</td>\n",
       "      <td>0.008716</td>\n",
       "      <td>-0.008762</td>\n",
       "      <td>...</td>\n",
       "      <td>-0.002217</td>\n",
       "      <td>0.002217</td>\n",
       "      <td>-0.005865</td>\n",
       "      <td>0.005865</td>\n",
       "      <td>-0.335225</td>\n",
       "      <td>-0.331232</td>\n",
       "      <td>-0.331098</td>\n",
       "      <td>1.000000</td>\n",
       "      <td>-0.127983</td>\n",
       "      <td>0.127983</td>\n",
       "    </tr>\n",
       "    <tr>\n",
       "      <th>CANCEL</th>\n",
       "      <td>0.011663</td>\n",
       "      <td>0.078869</td>\n",
       "      <td>0.037585</td>\n",
       "      <td>0.009965</td>\n",
       "      <td>-0.033463</td>\n",
       "      <td>-0.012046</td>\n",
       "      <td>0.001771</td>\n",
       "      <td>0.006060</td>\n",
       "      <td>0.017779</td>\n",
       "      <td>-0.000366</td>\n",
       "      <td>...</td>\n",
       "      <td>0.006616</td>\n",
       "      <td>-0.006616</td>\n",
       "      <td>-0.007951</td>\n",
       "      <td>0.007951</td>\n",
       "      <td>0.044708</td>\n",
       "      <td>0.037304</td>\n",
       "      <td>0.045648</td>\n",
       "      <td>-0.127983</td>\n",
       "      <td>1.000000</td>\n",
       "      <td>-1.000000</td>\n",
       "    </tr>\n",
       "    <tr>\n",
       "      <th>FILL</th>\n",
       "      <td>-0.011663</td>\n",
       "      <td>-0.078869</td>\n",
       "      <td>-0.037585</td>\n",
       "      <td>-0.009965</td>\n",
       "      <td>0.033463</td>\n",
       "      <td>0.012046</td>\n",
       "      <td>-0.001771</td>\n",
       "      <td>-0.006060</td>\n",
       "      <td>-0.017779</td>\n",
       "      <td>0.000366</td>\n",
       "      <td>...</td>\n",
       "      <td>-0.006616</td>\n",
       "      <td>0.006616</td>\n",
       "      <td>0.007951</td>\n",
       "      <td>-0.007951</td>\n",
       "      <td>-0.044708</td>\n",
       "      <td>-0.037304</td>\n",
       "      <td>-0.045648</td>\n",
       "      <td>0.127983</td>\n",
       "      <td>-1.000000</td>\n",
       "      <td>1.000000</td>\n",
       "    </tr>\n",
       "  </tbody>\n",
       "</table>\n",
       "<p>38 rows × 38 columns</p>\n",
       "</div>"
      ],
      "text/plain": [
       "               Strike      Size     Price  MarketSize      Time  TimeOfOrder  \\\n",
       "Strike       1.000000 -0.178323  0.547318   -0.212931  0.008402    -0.017089   \n",
       "Size        -0.178323  1.000000 -0.111529    0.848815  0.007158     0.012327   \n",
       "Price        0.547318 -0.111529  1.000000   -0.133468  0.001500    -0.012304   \n",
       "MarketSize  -0.212931  0.848815 -0.133468    1.000000  0.002162     0.011280   \n",
       "Time         0.008402  0.007158  0.001500    0.002162  1.000000     0.003210   \n",
       "TimeOfOrder -0.017089  0.012327 -0.012304    0.011280  0.003210     1.000000   \n",
       "AAPL        -0.094061 -0.003180 -0.057654   -0.001555 -0.004332     0.006888   \n",
       "AMD         -0.103475 -0.020356 -0.055147   -0.022661 -0.008080     0.006997   \n",
       "AMZN         0.730269 -0.087640  0.378968   -0.104731  0.009458    -0.012715   \n",
       "BABA        -0.083021 -0.031200 -0.022587   -0.038463 -0.001280     0.007338   \n",
       "DE          -0.042878 -0.065177 -0.024211   -0.078496 -0.001371    -0.002478   \n",
       "F           -0.124657  0.220876 -0.072803    0.253761  0.002757     0.004222   \n",
       "FB          -0.043475 -0.067728 -0.022121   -0.081624 -0.001547    -0.000645   \n",
       "GDX         -0.122266  0.318417 -0.071622    0.386802  0.000334     0.006349   \n",
       "GE          -0.102944  0.029212 -0.058692    0.037564 -0.007144     0.000311   \n",
       "GOOG         0.589606 -0.087771  0.321885   -0.104922 -0.006011    -0.006403   \n",
       "GS          -0.031508 -0.050483 -0.006156   -0.063281  0.005633    -0.012267   \n",
       "INTC        -0.115596  0.001295 -0.068210   -0.001497 -0.004741     0.003244   \n",
       "IWM         -0.074630 -0.042938 -0.049429   -0.048183  0.000937     0.001613   \n",
       "MSFT        -0.053758 -0.054424 -0.038032   -0.063627 -0.010008    -0.006161   \n",
       "NFLX         0.033567 -0.060823  0.031387   -0.073352  0.004685     0.002366   \n",
       "NVDA        -0.077959 -0.045209 -0.035041   -0.055383  0.008134     0.009834   \n",
       "QQQ         -0.037500 -0.056034 -0.036388   -0.062049  0.001784    -0.015282   \n",
       "SPY         -0.018193  0.037651 -0.033800    0.043263  0.000327     0.002169   \n",
       "TLT         -0.091035  0.024881 -0.063403    0.033305 -0.007042     0.011817   \n",
       "TSLA         0.078875 -0.077429  0.104977   -0.092816  0.015323    -0.001877   \n",
       "TWTR        -0.113922  0.037853 -0.063514    0.040239 -0.002270     0.004807   \n",
       "USO         -0.114525  0.095841 -0.065765    0.116220  0.003875    -0.009131   \n",
       "C           -0.006807  0.025781 -0.036586    0.035968  0.012676     0.001338   \n",
       "P            0.006807 -0.025781  0.036586   -0.035968 -0.012676    -0.001338   \n",
       "B           -0.003816  0.001416  0.000634   -0.002144 -0.004709    -0.010229   \n",
       "S            0.003816 -0.001416 -0.000634    0.002144  0.004709     0.010229   \n",
       "AMEX         0.000774  0.013079 -0.007910    0.007286  0.812543     0.002356   \n",
       "CBOE        -0.004159 -0.000200 -0.005452    0.008672 -0.547048    -0.005068   \n",
       "ISE         -0.009056 -0.002949 -0.001978   -0.007390 -0.546899     0.001477   \n",
       "PHLX         0.012441 -0.010014  0.015394   -0.008617  0.276576     0.001223   \n",
       "CANCEL       0.011663  0.078869  0.037585    0.009965 -0.033463    -0.012046   \n",
       "FILL        -0.011663 -0.078869 -0.037585   -0.009965  0.033463     0.012046   \n",
       "\n",
       "                 AAPL       AMD      AMZN      BABA  ...         C         P  \\\n",
       "Strike      -0.094061 -0.103475  0.730269 -0.083021  ... -0.006807  0.006807   \n",
       "Size        -0.003180 -0.020356 -0.087640 -0.031200  ...  0.025781 -0.025781   \n",
       "Price       -0.057654 -0.055147  0.378968 -0.022587  ... -0.036586  0.036586   \n",
       "MarketSize  -0.001555 -0.022661 -0.104731 -0.038463  ...  0.035968 -0.035968   \n",
       "Time        -0.004332 -0.008080  0.009458 -0.001280  ...  0.012676 -0.012676   \n",
       "TimeOfOrder  0.006888  0.006997 -0.012715  0.007338  ...  0.001338 -0.001338   \n",
       "AAPL         1.000000 -0.047438 -0.048120 -0.047083  ... -0.005678  0.005678   \n",
       "AMD         -0.047438  1.000000 -0.048057 -0.047021  ...  0.006523 -0.006523   \n",
       "AMZN        -0.048120 -0.048057  1.000000 -0.047698  ... -0.009490  0.009490   \n",
       "BABA        -0.047083 -0.047021 -0.047698  1.000000  ... -0.006145  0.006145   \n",
       "DE          -0.048387 -0.048323 -0.049019 -0.047962  ... -0.006722  0.006722   \n",
       "F           -0.046557 -0.046496 -0.047165 -0.046148  ...  0.002439 -0.002439   \n",
       "FB          -0.048161 -0.048098 -0.048790 -0.047738  ... -0.001565  0.001565   \n",
       "GDX         -0.047271 -0.047209 -0.047888 -0.046856  ... -0.007744  0.007744   \n",
       "GE          -0.047062 -0.047000 -0.047676 -0.046649  ... -0.004498  0.004498   \n",
       "GOOG        -0.047375 -0.047313 -0.047994 -0.046959  ... -0.002057  0.002057   \n",
       "GS          -0.048182 -0.048119 -0.048811 -0.047759  ... -0.000663  0.000663   \n",
       "INTC        -0.046894 -0.046833 -0.047506 -0.046482  ... -0.001586  0.001586   \n",
       "IWM         -0.047811 -0.047748 -0.048435 -0.047391  ...  0.003266 -0.003266   \n",
       "MSFT        -0.048017 -0.047954 -0.048644 -0.047596  ...  0.013739 -0.013739   \n",
       "NFLX        -0.047542 -0.047479 -0.048162 -0.047124  ...  0.006341 -0.006341   \n",
       "NVDA        -0.048734 -0.048670 -0.049370 -0.048306  ...  0.006354 -0.006354   \n",
       "QQQ         -0.049099 -0.049035 -0.049740 -0.048668  ...  0.002117 -0.002117   \n",
       "SPY         -0.047438 -0.047375 -0.048057 -0.047021  ...  0.006158 -0.006158   \n",
       "TLT         -0.046154 -0.046094 -0.046757 -0.045749  ... -0.007876  0.007876   \n",
       "TSLA        -0.047728 -0.047665 -0.048351 -0.047309  ...  0.010876 -0.010876   \n",
       "TWTR        -0.047229 -0.047167 -0.047846 -0.046814  ...  0.003227 -0.003227   \n",
       "USO         -0.046430 -0.046369 -0.047036 -0.046022  ... -0.007611  0.007611   \n",
       "C           -0.005678  0.006523 -0.009490 -0.006145  ...  1.000000 -1.000000   \n",
       "P            0.005678 -0.006523  0.009490  0.006145  ... -1.000000  1.000000   \n",
       "B           -0.006608  0.001228  0.000976 -0.002956  ...  0.006619 -0.006619   \n",
       "S            0.006608 -0.001228 -0.000976  0.002956  ... -0.006619  0.006619   \n",
       "AMEX        -0.001865 -0.008253  0.004111  0.004056  ...  0.013729 -0.013729   \n",
       "CBOE         0.004185  0.009985 -0.005214 -0.004278  ... -0.006934  0.006934   \n",
       "ISE          0.001736 -0.002164 -0.007635  0.008957  ... -0.004662  0.004662   \n",
       "PHLX        -0.004047  0.000481  0.008716 -0.008762  ... -0.002217  0.002217   \n",
       "CANCEL       0.001771  0.006060  0.017779 -0.000366  ...  0.006616 -0.006616   \n",
       "FILL        -0.001771 -0.006060 -0.017779  0.000366  ... -0.006616  0.006616   \n",
       "\n",
       "                    B         S      AMEX      CBOE       ISE      PHLX  \\\n",
       "Strike      -0.003816  0.003816  0.000774 -0.004159 -0.009056  0.012441   \n",
       "Size         0.001416 -0.001416  0.013079 -0.000200 -0.002949 -0.010014   \n",
       "Price        0.000634 -0.000634 -0.007910 -0.005452 -0.001978  0.015394   \n",
       "MarketSize  -0.002144  0.002144  0.007286  0.008672 -0.007390 -0.008617   \n",
       "Time        -0.004709  0.004709  0.812543 -0.547048 -0.546899  0.276576   \n",
       "TimeOfOrder -0.010229  0.010229  0.002356 -0.005068  0.001477  0.001223   \n",
       "AAPL        -0.006608  0.006608 -0.001865  0.004185  0.001736 -0.004047   \n",
       "AMD          0.001228 -0.001228 -0.008253  0.009985 -0.002164  0.000481   \n",
       "AMZN         0.000976 -0.000976  0.004111 -0.005214 -0.007635  0.008716   \n",
       "BABA        -0.002956  0.002956  0.004056 -0.004278  0.008957 -0.008762   \n",
       "DE          -0.002452  0.002452 -0.005497 -0.006114  0.004730  0.006919   \n",
       "F            0.002435 -0.002435  0.006800  0.002635 -0.002436 -0.007044   \n",
       "FB           0.001691 -0.001691 -0.001475  0.013710 -0.011995 -0.000234   \n",
       "GDX          0.003441 -0.003441  0.003503  0.003248 -0.001752 -0.005023   \n",
       "GE          -0.001670  0.001670  0.000788  0.001346  0.010765 -0.012908   \n",
       "GOOG        -0.009169  0.009169 -0.007105  0.006092 -0.001007  0.002063   \n",
       "GS          -0.008916  0.008916  0.007924  0.000716 -0.004610 -0.004080   \n",
       "INTC         0.000918 -0.000918 -0.005549 -0.002061  0.006109  0.001536   \n",
       "IWM          0.008791 -0.008791  0.002389 -0.005774  0.005605 -0.002234   \n",
       "MSFT        -0.003521  0.003521 -0.007789 -0.000953  0.012052 -0.003263   \n",
       "NFLX         0.004310 -0.004310 -0.002076 -0.004862 -0.003945  0.010901   \n",
       "NVDA         0.004473 -0.004473  0.009133 -0.002880 -0.004448 -0.001862   \n",
       "QQQ          0.006180 -0.006180 -0.002937 -0.002649 -0.002161  0.007768   \n",
       "SPY          0.001957 -0.001957 -0.006577 -0.003083 -0.001742  0.011447   \n",
       "TLT          0.002675 -0.002675 -0.003536  0.012049 -0.003005 -0.005490   \n",
       "TSLA         0.001923 -0.001923  0.011983 -0.016265 -0.000677  0.004890   \n",
       "TWTR        -0.003875  0.003875 -0.001750  0.003038 -0.000272 -0.001005   \n",
       "USO         -0.002010  0.002010  0.003621 -0.002304 -0.001800  0.000462   \n",
       "C            0.006619 -0.006619  0.013729 -0.006934 -0.004662 -0.002217   \n",
       "P           -0.006619  0.006619 -0.013729  0.006934  0.004662  0.002217   \n",
       "B            1.000000 -1.000000 -0.000969  0.003942  0.002895 -0.005865   \n",
       "S           -1.000000  1.000000  0.000969 -0.003942 -0.002895  0.005865   \n",
       "AMEX        -0.000969  0.000969  1.000000 -0.335564 -0.335428 -0.335225   \n",
       "CBOE         0.003942 -0.003942 -0.335564  1.000000 -0.331433 -0.331232   \n",
       "ISE          0.002895 -0.002895 -0.335428 -0.331433  1.000000 -0.331098   \n",
       "PHLX        -0.005865  0.005865 -0.335225 -0.331232 -0.331098  1.000000   \n",
       "CANCEL      -0.007951  0.007951  0.044708  0.037304  0.045648 -0.127983   \n",
       "FILL         0.007951 -0.007951 -0.044708 -0.037304 -0.045648  0.127983   \n",
       "\n",
       "               CANCEL      FILL  \n",
       "Strike       0.011663 -0.011663  \n",
       "Size         0.078869 -0.078869  \n",
       "Price        0.037585 -0.037585  \n",
       "MarketSize   0.009965 -0.009965  \n",
       "Time        -0.033463  0.033463  \n",
       "TimeOfOrder -0.012046  0.012046  \n",
       "AAPL         0.001771 -0.001771  \n",
       "AMD          0.006060 -0.006060  \n",
       "AMZN         0.017779 -0.017779  \n",
       "BABA        -0.000366  0.000366  \n",
       "DE           0.004612 -0.004612  \n",
       "F           -0.010463  0.010463  \n",
       "FB           0.001789 -0.001789  \n",
       "GDX         -0.002955  0.002955  \n",
       "GE          -0.003118  0.003118  \n",
       "GOOG        -0.005447  0.005447  \n",
       "GS           0.007740 -0.007740  \n",
       "INTC        -0.005921  0.005921  \n",
       "IWM          0.001255 -0.001255  \n",
       "MSFT        -0.008042  0.008042  \n",
       "NFLX        -0.002671  0.002671  \n",
       "NVDA         0.001536 -0.001536  \n",
       "QQQ         -0.007750  0.007750  \n",
       "SPY         -0.001650  0.001650  \n",
       "TLT         -0.002030  0.002030  \n",
       "TSLA         0.000613 -0.000613  \n",
       "TWTR         0.001878 -0.001878  \n",
       "USO          0.004994 -0.004994  \n",
       "C            0.006616 -0.006616  \n",
       "P           -0.006616  0.006616  \n",
       "B           -0.007951  0.007951  \n",
       "S            0.007951 -0.007951  \n",
       "AMEX         0.044708 -0.044708  \n",
       "CBOE         0.037304 -0.037304  \n",
       "ISE          0.045648 -0.045648  \n",
       "PHLX        -0.127983  0.127983  \n",
       "CANCEL       1.000000 -1.000000  \n",
       "FILL        -1.000000  1.000000  \n",
       "\n",
       "[38 rows x 38 columns]"
      ]
     },
     "execution_count": 59,
     "metadata": {},
     "output_type": "execute_result"
    }
   ],
   "source": [
    "#one hot encoding features\n",
    "df1 = df\n",
    "categorical_features = [\"UnderlyingSymbol\", \"CallPut\", \"Side\", \"Exchange\", \"OrderEventTypeOmIn\"]\n",
    "for feature in categorical_features:\n",
    "    df1[feature] = df1[feature].astype('category')\n",
    "    one_hot = pd.get_dummies(df[feature])\n",
    "    df1 = df1.drop(feature, axis = 1)\n",
    "    df1 = df1.join(one_hot)\n",
    "df1 = df1.drop(\"SeInstructionId\", axis = 1)\n",
    "df1 = df1.drop(\"OrderId\", axis = 1)\n",
    "df1 = df1.drop( \"OptionId\", axis = 1)\n",
    "df1 = df1.drop(\"OptionIdOmIn\", axis = 1)\n",
    "df1.corr(method = \"pearson\")"
   ]
  },
  {
   "attachments": {},
   "cell_type": "markdown",
   "metadata": {},
   "source": [
    "The table above is a correlation table using the pearson method, which provides correlations between every variable within the table. Here, we are predominantly looking at whether the variable \"FILL\" is correlated. The values are all really small so we are going to look at correlations relatively large to anything the the table, so values that are above 1% are generally going to be worth analyzing within this matrix."
   ]
  },
  {
   "cell_type": "code",
   "execution_count": 60,
   "metadata": {},
   "outputs": [
    {
     "name": "stdout",
     "output_type": "stream",
     "text": [
      "0.00068\n",
      "PHLX had a fill rate of 55.14% and an average latency of 0.00100 seconds\n",
      "CBOE had a fill rate of 40.88% and an average latency of 0.00006 seconds\n",
      "AMEX had a fill rate of 40.29% and an average latency of 0.00160 seconds\n",
      "ISE had a fill rate of 40.16% and an average latency of 0.00006 seconds\n"
     ]
    }
   ],
   "source": [
    "print(f\"{df.Time.mean():.5f}\")\n",
    "exchanges = df.Exchange.unique()\n",
    "for exchange in exchanges: \n",
    "    y = df.loc[df[\"Exchange\"] == exchange]\n",
    "    filled, nonfilled = split(y, 'OrderEventTypeOmIn')\n",
    "    print(f\"{exchange} had a fill rate of {(len(filled)*100/len(y)):.2f}% and an average latency of {y.Time.mean():.5f} seconds\")\n"
   ]
  },
  {
   "attachments": {},
   "cell_type": "markdown",
   "metadata": {},
   "source": [
    "Given that exchange had relatively high correlation values(-0.044708, -0.037304, -0.045648, 0.127983), I chose to analyze their correlation with the fill rate."
   ]
  },
  {
   "cell_type": "code",
   "execution_count": 61,
   "metadata": {},
   "outputs": [],
   "source": [
    "x = df.Exchange.unique()\n",
    "a = 0\n",
    "exchange_data = np.array([[0,0], [0,0], [0,0], [0,0]])\n",
    "for exchange in x:\n",
    "    y = df.loc[df[\"Exchange\"] == exchange]\n",
    "    filled, nonfilled = split(y, 'OrderEventTypeOmIn')\n",
    "    exchange_data[a] = np.array([len(filled), len(nonfilled)])\n",
    "    a+=1"
   ]
  },
  {
   "cell_type": "code",
   "execution_count": 62,
   "metadata": {},
   "outputs": [
    {
     "data": {
      "image/png": "[encoded data removed]",
      "text/plain": [
       "<Figure size 700x500 with 4 Axes>"
      ]
     },
     "metadata": {},
     "output_type": "display_data"
    }
   ],
   "source": [
    "fig, axs = plt.subplots(2,2,figsize=(7,5)) #ax1,ax2 refer to your two pies\n",
    "fig.suptitle('Exchange vs Fill Percentage', fontsize=13)\n",
    "fig.patch.set_facecolor('white')\n",
    "\n",
    "colors = ['#8EB897', '#DD7596']\n",
    "labels = [\"Filled\", \"Cancelled\"]\n",
    "axs[0][0].pie(exchange_data[0], colors = colors, autopct = '%1.1f%%', labels = labels, wedgeprops = { 'linewidth' : 3, 'edgecolor' : 'white' }) \n",
    "axs[0][0].set_title(f'{x[0]} and Fill Rate', fontsize=8)\n",
    "\n",
    "axs[0][1].pie(exchange_data[1], colors = colors, autopct = '%1.1f%%', labels = labels, wedgeprops = { 'linewidth' : 3, 'edgecolor' : 'white' }) \n",
    "axs[0][1].set_title(f'{x[1]} and Fill Rate', fontsize=8)\n",
    "\n",
    "axs[1][1].pie(exchange_data[2], colors = colors, autopct = '%1.1f%%', labels = labels, wedgeprops = { 'linewidth' : 3, 'edgecolor' : 'white' }) \n",
    "axs[1][1].set_title(f'{x[2]} and Fill Rate', fontsize=8)\n",
    "\n",
    "axs[1][0].pie(exchange_data[3], colors = colors, autopct = '%1.1f%%', labels = labels, wedgeprops = { 'linewidth' : 3, 'edgecolor' : 'white' }) \n",
    "axs[1][0].set_title(f'{x[3]} and Fill Rate', fontsize=8)\n",
    "\n",
    "plt.show()\n",
    "\n"
   ]
  },
  {
   "attachments": {},
   "cell_type": "markdown",
   "metadata": {},
   "source": [
    "Next thing I wanted to analyze was whether how the size of the order impacted the fill rate. This was backed by the correlation table"
   ]
  },
  {
   "cell_type": "code",
   "execution_count": 45,
   "metadata": {},
   "outputs": [
    {
     "data": {
      "image/png": "[encoded data removed]",
      "text/plain": [
       "<Figure size 2000x500 with 1 Axes>"
      ]
     },
     "metadata": {},
     "output_type": "display_data"
    },
    {
     "data": {
      "image/png": "[encoded data removed]",
      "text/plain": [
       "<Figure size 2000x500 with 1 Axes>"
      ]
     },
     "metadata": {},
     "output_type": "display_data"
    }
   ],
   "source": [
    "#max size of an order = 11823, so lets plot a histogram of size vs fillrate\n",
    "fill_rate_size = np.empty(0)\n",
    "percent_of_trades = np.empty(0)\n",
    "x_labels = np.empty(0)\n",
    "for i in np.arange(0, 1500, 100):\n",
    "    temp_df = df1.loc[df[\"Size\"] >= i]\n",
    "    temp_df = temp_df.loc[temp_df[\"Size\"] <= (i + 100)]\n",
    "    fill_rate_size = np.append(fill_rate_size, temp_df[\"FILL\"].mean())\n",
    "    x_labels = np.append(x_labels, f\"{i} to {i + 100}\")\n",
    "    percent_of_trades = np.append(percent_of_trades, len(temp_df)/len(df1))\n",
    "\n",
    "last_df = df1.loc[df[\"Size\"] >= 1500]\n",
    "last_df = last_df.loc[last_df[\"Size\"] <= df[\"Size\"].max()]\n",
    "fill_rate_size = np.append(fill_rate_size, last_df[\"FILL\"].mean())\n",
    "x_labels = np.append(x_labels, f\"{1500} to max\")\n",
    "percent_of_trades = np.append(percent_of_trades, len(last_df)/len(df1))\n",
    "\n",
    "fig = plt.figure(figsize = (20, 5))\n",
    " \n",
    "# creating the bar plot\n",
    "plt.bar(x_labels, fill_rate_size, color ='blue', width = 0.5)\n",
    "plt.ylim(0, 0.5)\n",
    " \n",
    "plt.xlabel(\"Order Size Range\")\n",
    "plt.ylabel(\"Fill Percentage\")\n",
    "plt.title(\"Fill Rate vs Size\")\n",
    "plt.show()\n",
    "\n",
    "fig2 = plt.figure(figsize = (20, 5))\n",
    " \n",
    "# creating the bar plot\n",
    "plt.bar(x_labels, percent_of_trades, color ='maroon',\n",
    "        width = 0.5)\n",
    "plt.xlabel(\"Size\")\n",
    "plt.ylabel(\"Percentage of Total Trades\")\n",
    "plt.title(\"Trades vs Size\")\n",
    "plt.show()"
   ]
  },
  {
   "attachments": {},
   "cell_type": "markdown",
   "metadata": {},
   "source": [
    "Some stocks had higher correlations with fill rate than others,however, there wasn't anything deeply significant. I still chose to see whether some stocks produced higher fill rates overall."
   ]
  },
  {
   "cell_type": "code",
   "execution_count": 46,
   "metadata": {},
   "outputs": [
    {
     "data": {
      "image/png": "[encoded data removed]",
      "text/plain": [
       "<Figure size 2000x500 with 1 Axes>"
      ]
     },
     "metadata": {},
     "output_type": "display_data"
    }
   ],
   "source": [
    "stocks = np.array(df.UnderlyingSymbol.unique())\n",
    "fill_rate_stocks = np.empty(0)\n",
    "for i in stocks:\n",
    "    temp_df = df1.loc[df1[i] == 1]\n",
    "    fill_rate_stocks = np.append(fill_rate_stocks, temp_df[\"FILL\"].mean())\n",
    "\n",
    "fig = plt.figure(figsize = (20, 5))\n",
    " \n",
    "# creating the bar plot\n",
    "plt.bar(stocks, fill_rate_stocks, color ='blue', width = 0.5)\n",
    "plt.ylim(0.3, 0.5)\n",
    " \n",
    "plt.xlabel(\"Stock\")\n",
    "plt.ylabel(\"Fill Percentage\")\n",
    "plt.title(\"Fill Rate vs Stock\")\n",
    "plt.show()\n"
   ]
  },
  {
   "cell_type": "code",
   "execution_count": 49,
   "metadata": {},
   "outputs": [
    {
     "data": {
      "application/vnd.plotly.v1+json": {
       "config": {
        "plotlyServerURL": "https://plot.ly"
       },
       "data": [
        {
         "coloraxis": "coloraxis",
         "hovertemplate": "Stock: %{x}<br>Exchange: %{y}<br>Fill Rate: %{z}<extra></extra>",
         "name": "0",
         "type": "heatmap",
         "x": [
          "FB",
          "AAPL",
          "INTC",
          "NVDA",
          "GDX",
          "USO",
          "SPY",
          "QQQ",
          "MSFT",
          "TWTR",
          "TLT",
          "F",
          "AMZN",
          "BABA",
          "TSLA",
          "GOOG",
          "AMD",
          "IWM",
          "GS",
          "NFLX",
          "GE",
          "DE"
         ],
         "xaxis": "x",
         "y": [
          "PHLX",
          "CBOE",
          "AMEX",
          "ISE"
         ],
         "yaxis": "y",
         "z": [
          [
           0.5442622950819672,
           0.5625,
           0.5374149659863946,
           0.5454545454545454,
           0.5724381625441696,
           0.5734265734265734,
           0.5740740740740741,
           0.5744047619047619,
           0.5540540540540541,
           0.5924657534246576,
           0.5576208178438662,
           0.5481481481481482,
           0.4386503067484663,
           0.5477941176470589,
           0.5576923076923077,
           0.5780730897009967,
           0.540268456375839,
           0.5540540540540541,
           0.5236486486486487,
           0.5864197530864198,
           0.5572519083969466,
           0.52
          ],
          [
           0.4336283185840708,
           0.38961038961038963,
           0.36713286713286714,
           0.3562091503267974,
           0.4158415841584158,
           0.36428571428571427,
           0.43448275862068964,
           0.3987138263665595,
           0.45364238410596025,
           0.39403973509933776,
           0.44516129032258067,
           0.46075085324232085,
           0.3856655290102389,
           0.42402826855123676,
           0.41603053435114506,
           0.4405144694533762,
           0.37694704049844235,
           0.3819444444444444,
           0.39935064935064934,
           0.41114982578397213,
           0.4155405405405405,
           0.42517006802721086
          ],
          [
           0.4025974025974026,
           0.4013377926421405,
           0.44876325088339225,
           0.41935483870967744,
           0.36893203883495146,
           0.3979933110367893,
           0.34843205574912894,
           0.40822784810126583,
           0.39862542955326463,
           0.3885135135135135,
           0.3655913978494624,
           0.44805194805194803,
           0.37383177570093457,
           0.3961038961038961,
           0.3970149253731343,
           0.43859649122807015,
           0.4098939929328622,
           0.43130990415335463,
           0.4259818731117825,
           0.3979933110367893,
           0.4,
           0.3920265780730897
          ],
          [
           0.36101083032490977,
           0.40066225165562913,
           0.46229508196721314,
           0.4304635761589404,
           0.44329896907216493,
           0.3807829181494662,
           0.4061433447098976,
           0.4423076923076923,
           0.43243243243243246,
           0.3741496598639456,
           0.41818181818181815,
           0.4092526690391459,
           0.40418118466898956,
           0.410828025477707,
           0.38461538461538464,
           0.35374149659863946,
           0.3835616438356164,
           0.3873015873015873,
           0.34576271186440677,
           0.3771626297577855,
           0.4339622641509434,
           0.38125
          ]
         ]
        }
       ],
       "layout": {
        "coloraxis": {
         "colorbar": {
          "title": {
           "text": "Fill Rate"
          }
         },
         "colorscale": [
          [
           0,
           "#0d0887"
          ],
          [
           0.1111111111111111,
           "#46039f"
          ],
          [
           0.2222222222222222,
           "#7201a8"
          ],
          [
           0.3333333333333333,
           "#9c179e"
          ],
          [
           0.4444444444444444,
           "#bd3786"
          ],
          [
           0.5555555555555556,
           "#d8576b"
          ],
          [
           0.6666666666666666,
           "#ed7953"
          ],
          [
           0.7777777777777778,
           "#fb9f3a"
          ],
          [
           0.8888888888888888,
           "#fdca26"
          ],
          [
           1,
           "#f0f921"
          ]
         ]
        },
        "margin": {
         "t": 60
        },
        "template": {
         "data": {
          "bar": [
           {
            "error_x": {
             "color": "#2a3f5f"
            },
            "error_y": {
             "color": "#2a3f5f"
            },
            "marker": {
             "line": {
              "color": "#E5ECF6",
              "width": 0.5
             },
             "pattern": {
              "fillmode": "overlay",
              "size": 10,
              "solidity": 0.2
             }
            },
            "type": "bar"
           }
          ],
          "barpolar": [
           {
            "marker": {
             "line": {
              "color": "#E5ECF6",
              "width": 0.5
             },
             "pattern": {
              "fillmode": "overlay",
              "size": 10,
              "solidity": 0.2
             }
            },
            "type": "barpolar"
           }
          ],
          "carpet": [
           {
            "aaxis": {
             "endlinecolor": "#2a3f5f",
             "gridcolor": "white",
             "linecolor": "white",
             "minorgridcolor": "white",
             "startlinecolor": "#2a3f5f"
            },
            "baxis": {
             "endlinecolor": "#2a3f5f",
             "gridcolor": "white",
             "linecolor": "white",
             "minorgridcolor": "white",
             "startlinecolor": "#2a3f5f"
            },
            "type": "carpet"
           }
          ],
          "choropleth": [
           {
            "colorbar": {
             "outlinewidth": 0,
             "ticks": ""
            },
            "type": "choropleth"
           }
          ],
          "contour": [
           {
            "colorbar": {
             "outlinewidth": 0,
             "ticks": ""
            },
            "colorscale": [
             [
              0,
              "#0d0887"
             ],
             [
              0.1111111111111111,
              "#46039f"
             ],
             [
              0.2222222222222222,
              "#7201a8"
             ],
             [
              0.3333333333333333,
              "#9c179e"
             ],
             [
              0.4444444444444444,
              "#bd3786"
             ],
             [
              0.5555555555555556,
              "#d8576b"
             ],
             [
              0.6666666666666666,
              "#ed7953"
             ],
             [
              0.7777777777777778,
              "#fb9f3a"
             ],
             [
              0.8888888888888888,
              "#fdca26"
             ],
             [
              1,
              "#f0f921"
             ]
            ],
            "type": "contour"
           }
          ],
          "contourcarpet": [
           {
            "colorbar": {
             "outlinewidth": 0,
             "ticks": ""
            },
            "type": "contourcarpet"
           }
          ],
          "heatmap": [
           {
            "colorbar": {
             "outlinewidth": 0,
             "ticks": ""
            },
            "colorscale": [
             [
              0,
              "#0d0887"
             ],
             [
              0.1111111111111111,
              "#46039f"
             ],
             [
              0.2222222222222222,
              "#7201a8"
             ],
             [
              0.3333333333333333,
              "#9c179e"
             ],
             [
              0.4444444444444444,
              "#bd3786"
             ],
             [
              0.5555555555555556,
              "#d8576b"
             ],
             [
              0.6666666666666666,
              "#ed7953"
             ],
             [
              0.7777777777777778,
              "#fb9f3a"
             ],
             [
              0.8888888888888888,
              "#fdca26"
             ],
             [
              1,
              "#f0f921"
             ]
            ],
            "type": "heatmap"
           }
          ],
          "heatmapgl": [
           {
            "colorbar": {
             "outlinewidth": 0,
             "ticks": ""
            },
            "colorscale": [
             [
              0,
              "#0d0887"
             ],
             [
              0.1111111111111111,
              "#46039f"
             ],
             [
              0.2222222222222222,
              "#7201a8"
             ],
             [
              0.3333333333333333,
              "#9c179e"
             ],
             [
              0.4444444444444444,
              "#bd3786"
             ],
             [
              0.5555555555555556,
              "#d8576b"
             ],
             [
              0.6666666666666666,
              "#ed7953"
             ],
             [
              0.7777777777777778,
              "#fb9f3a"
             ],
             [
              0.8888888888888888,
              "#fdca26"
             ],
             [
              1,
              "#f0f921"
             ]
            ],
            "type": "heatmapgl"
           }
          ],
          "histogram": [
           {
            "marker": {
             "pattern": {
              "fillmode": "overlay",
              "size": 10,
              "solidity": 0.2
             }
            },
            "type": "histogram"
           }
          ],
          "histogram2d": [
           {
            "colorbar": {
             "outlinewidth": 0,
             "ticks": ""
            },
            "colorscale": [
             [
              0,
              "#0d0887"
             ],
             [
              0.1111111111111111,
              "#46039f"
             ],
             [
              0.2222222222222222,
              "#7201a8"
             ],
             [
              0.3333333333333333,
              "#9c179e"
             ],
             [
              0.4444444444444444,
              "#bd3786"
             ],
             [
              0.5555555555555556,
              "#d8576b"
             ],
             [
              0.6666666666666666,
              "#ed7953"
             ],
             [
              0.7777777777777778,
              "#fb9f3a"
             ],
             [
              0.8888888888888888,
              "#fdca26"
             ],
             [
              1,
              "#f0f921"
             ]
            ],
            "type": "histogram2d"
           }
          ],
          "histogram2dcontour": [
           {
            "colorbar": {
             "outlinewidth": 0,
             "ticks": ""
            },
            "colorscale": [
             [
              0,
              "#0d0887"
             ],
             [
              0.1111111111111111,
              "#46039f"
             ],
             [
              0.2222222222222222,
              "#7201a8"
             ],
             [
              0.3333333333333333,
              "#9c179e"
             ],
             [
              0.4444444444444444,
              "#bd3786"
             ],
             [
              0.5555555555555556,
              "#d8576b"
             ],
             [
              0.6666666666666666,
              "#ed7953"
             ],
             [
              0.7777777777777778,
              "#fb9f3a"
             ],
             [
              0.8888888888888888,
              "#fdca26"
             ],
             [
              1,
              "#f0f921"
             ]
            ],
            "type": "histogram2dcontour"
           }
          ],
          "mesh3d": [
           {
            "colorbar": {
             "outlinewidth": 0,
             "ticks": ""
            },
            "type": "mesh3d"
           }
          ],
          "parcoords": [
           {
            "line": {
             "colorbar": {
              "outlinewidth": 0,
              "ticks": ""
             }
            },
            "type": "parcoords"
           }
          ],
          "pie": [
           {
            "automargin": true,
            "type": "pie"
           }
          ],
          "scatter": [
           {
            "fillpattern": {
             "fillmode": "overlay",
             "size": 10,
             "solidity": 0.2
            },
            "type": "scatter"
           }
          ],
          "scatter3d": [
           {
            "line": {
             "colorbar": {
              "outlinewidth": 0,
              "ticks": ""
             }
            },
            "marker": {
             "colorbar": {
              "outlinewidth": 0,
              "ticks": ""
             }
            },
            "type": "scatter3d"
           }
          ],
          "scattercarpet": [
           {
            "marker": {
             "colorbar": {
              "outlinewidth": 0,
              "ticks": ""
             }
            },
            "type": "scattercarpet"
           }
          ],
          "scattergeo": [
           {
            "marker": {
             "colorbar": {
              "outlinewidth": 0,
              "ticks": ""
             }
            },
            "type": "scattergeo"
           }
          ],
          "scattergl": [
           {
            "marker": {
             "colorbar": {
              "outlinewidth": 0,
              "ticks": ""
             }
            },
            "type": "scattergl"
           }
          ],
          "scattermapbox": [
           {
            "marker": {
             "colorbar": {
              "outlinewidth": 0,
              "ticks": ""
             }
            },
            "type": "scattermapbox"
           }
          ],
          "scatterpolar": [
           {
            "marker": {
             "colorbar": {
              "outlinewidth": 0,
              "ticks": ""
             }
            },
            "type": "scatterpolar"
           }
          ],
          "scatterpolargl": [
           {
            "marker": {
             "colorbar": {
              "outlinewidth": 0,
              "ticks": ""
             }
            },
            "type": "scatterpolargl"
           }
          ],
          "scatterternary": [
           {
            "marker": {
             "colorbar": {
              "outlinewidth": 0,
              "ticks": ""
             }
            },
            "type": "scatterternary"
           }
          ],
          "surface": [
           {
            "colorbar": {
             "outlinewidth": 0,
             "ticks": ""
            },
            "colorscale": [
             [
              0,
              "#0d0887"
             ],
             [
              0.1111111111111111,
              "#46039f"
             ],
             [
              0.2222222222222222,
              "#7201a8"
             ],
             [
              0.3333333333333333,
              "#9c179e"
             ],
             [
              0.4444444444444444,
              "#bd3786"
             ],
             [
              0.5555555555555556,
              "#d8576b"
             ],
             [
              0.6666666666666666,
              "#ed7953"
             ],
             [
              0.7777777777777778,
              "#fb9f3a"
             ],
             [
              0.8888888888888888,
              "#fdca26"
             ],
             [
              1,
              "#f0f921"
             ]
            ],
            "type": "surface"
           }
          ],
          "table": [
           {
            "cells": {
             "fill": {
              "color": "#EBF0F8"
             },
             "line": {
              "color": "white"
             }
            },
            "header": {
             "fill": {
              "color": "#C8D4E3"
             },
             "line": {
              "color": "white"
             }
            },
            "type": "table"
           }
          ]
         },
         "layout": {
          "annotationdefaults": {
           "arrowcolor": "#2a3f5f",
           "arrowhead": 0,
           "arrowwidth": 1
          },
          "autotypenumbers": "strict",
          "coloraxis": {
           "colorbar": {
            "outlinewidth": 0,
            "ticks": ""
           }
          },
          "colorscale": {
           "diverging": [
            [
             0,
             "#8e0152"
            ],
            [
             0.1,
             "#c51b7d"
            ],
            [
             0.2,
             "#de77ae"
            ],
            [
             0.3,
             "#f1b6da"
            ],
            [
             0.4,
             "#fde0ef"
            ],
            [
             0.5,
             "#f7f7f7"
            ],
            [
             0.6,
             "#e6f5d0"
            ],
            [
             0.7,
             "#b8e186"
            ],
            [
             0.8,
             "#7fbc41"
            ],
            [
             0.9,
             "#4d9221"
            ],
            [
             1,
             "#276419"
            ]
           ],
           "sequential": [
            [
             0,
             "#0d0887"
            ],
            [
             0.1111111111111111,
             "#46039f"
            ],
            [
             0.2222222222222222,
             "#7201a8"
            ],
            [
             0.3333333333333333,
             "#9c179e"
            ],
            [
             0.4444444444444444,
             "#bd3786"
            ],
            [
             0.5555555555555556,
             "#d8576b"
            ],
            [
             0.6666666666666666,
             "#ed7953"
            ],
            [
             0.7777777777777778,
             "#fb9f3a"
            ],
            [
             0.8888888888888888,
             "#fdca26"
            ],
            [
             1,
             "#f0f921"
            ]
           ],
           "sequentialminus": [
            [
             0,
             "#0d0887"
            ],
            [
             0.1111111111111111,
             "#46039f"
            ],
            [
             0.2222222222222222,
             "#7201a8"
            ],
            [
             0.3333333333333333,
             "#9c179e"
            ],
            [
             0.4444444444444444,
             "#bd3786"
            ],
            [
             0.5555555555555556,
             "#d8576b"
            ],
            [
             0.6666666666666666,
             "#ed7953"
            ],
            [
             0.7777777777777778,
             "#fb9f3a"
            ],
            [
             0.8888888888888888,
             "#fdca26"
            ],
            [
             1,
             "#f0f921"
            ]
           ]
          },
          "colorway": [
           "#636efa",
           "#EF553B",
           "#00cc96",
           "#ab63fa",
           "#FFA15A",
           "#19d3f3",
           "#FF6692",
           "#B6E880",
           "#FF97FF",
           "#FECB52"
          ],
          "font": {
           "color": "#2a3f5f"
          },
          "geo": {
           "bgcolor": "white",
           "lakecolor": "white",
           "landcolor": "#E5ECF6",
           "showlakes": true,
           "showland": true,
           "subunitcolor": "white"
          },
          "hoverlabel": {
           "align": "left"
          },
          "hovermode": "closest",
          "mapbox": {
           "style": "light"
          },
          "paper_bgcolor": "white",
          "plot_bgcolor": "#E5ECF6",
          "polar": {
           "angularaxis": {
            "gridcolor": "white",
            "linecolor": "white",
            "ticks": ""
           },
           "bgcolor": "#E5ECF6",
           "radialaxis": {
            "gridcolor": "white",
            "linecolor": "white",
            "ticks": ""
           }
          },
          "scene": {
           "xaxis": {
            "backgroundcolor": "#E5ECF6",
            "gridcolor": "white",
            "gridwidth": 2,
            "linecolor": "white",
            "showbackground": true,
            "ticks": "",
            "zerolinecolor": "white"
           },
           "yaxis": {
            "backgroundcolor": "#E5ECF6",
            "gridcolor": "white",
            "gridwidth": 2,
            "linecolor": "white",
            "showbackground": true,
            "ticks": "",
            "zerolinecolor": "white"
           },
           "zaxis": {
            "backgroundcolor": "#E5ECF6",
            "gridcolor": "white",
            "gridwidth": 2,
            "linecolor": "white",
            "showbackground": true,
            "ticks": "",
            "zerolinecolor": "white"
           }
          },
          "shapedefaults": {
           "line": {
            "color": "#2a3f5f"
           }
          },
          "ternary": {
           "aaxis": {
            "gridcolor": "white",
            "linecolor": "white",
            "ticks": ""
           },
           "baxis": {
            "gridcolor": "white",
            "linecolor": "white",
            "ticks": ""
           },
           "bgcolor": "#E5ECF6",
           "caxis": {
            "gridcolor": "white",
            "linecolor": "white",
            "ticks": ""
           }
          },
          "title": {
           "x": 0.05
          },
          "xaxis": {
           "automargin": true,
           "gridcolor": "white",
           "linecolor": "white",
           "ticks": "",
           "title": {
            "standoff": 15
           },
           "zerolinecolor": "white",
           "zerolinewidth": 2
          },
          "yaxis": {
           "automargin": true,
           "gridcolor": "white",
           "linecolor": "white",
           "ticks": "",
           "title": {
            "standoff": 15
           },
           "zerolinecolor": "white",
           "zerolinewidth": 2
          }
         }
        },
        "xaxis": {
         "anchor": "y",
         "constrain": "domain",
         "domain": [
          0,
          1
         ],
         "scaleanchor": "y",
         "side": "top",
         "title": {
          "text": "Stock"
         }
        },
        "yaxis": {
         "anchor": "x",
         "autorange": "reversed",
         "constrain": "domain",
         "domain": [
          0,
          1
         ],
         "title": {
          "text": "Exchange"
         }
        }
       }
      }
     },
     "metadata": {},
     "output_type": "display_data"
    }
   ],
   "source": [
    "stocks = np.array(df.UnderlyingSymbol.unique())\n",
    "exchange = np.array(df.Exchange.unique())\n",
    "fill_rate_se = np.empty(0)\n",
    "for i in exchange:\n",
    "    fill_rate = np.empty(0)\n",
    "    for j in stocks:\n",
    "        temp_df = df1.loc[df1[i] == 1]\n",
    "        temp_df = temp_df.loc[temp_df[j] == 1]\n",
    "        fill_rate = np.append(fill_rate, temp_df[\"FILL\"].mean())\n",
    "    fill_rate_se = np.append(fill_rate_se, np.array(fill_rate))\n",
    "fill_rate_se = fill_rate_se.reshape(len(exchange), len(stocks))\n",
    "fig = px.imshow(fill_rate_se, \n",
    "                labels=dict(x=\"Stock\", y=\"Exchange\", color=\"Fill Rate\"),\n",
    "                x=stocks,\n",
    "                y=exchange\n",
    "               )\n",
    "fig.update_xaxes(side=\"top\")\n",
    "fig.show()"
   ]
  },
  {
   "cell_type": "code",
   "execution_count": 54,
   "metadata": {},
   "outputs": [
    {
     "data": {
      "application/vnd.plotly.v1+json": {
       "config": {
        "plotlyServerURL": "https://plot.ly"
       },
       "data": [
        {
         "coloraxis": "coloraxis",
         "hovertemplate": "Stock: %{x}<br>Exchange: %{y}<br>Number of Trades: %{z}<extra></extra>",
         "name": "0",
         "type": "heatmap",
         "x": [
          "FB",
          "AAPL",
          "INTC",
          "NVDA",
          "GDX",
          "USO",
          "SPY",
          "QQQ",
          "MSFT",
          "TWTR",
          "TLT",
          "F",
          "AMZN",
          "BABA",
          "TSLA",
          "GOOG",
          "AMD",
          "IWM",
          "GS",
          "NFLX",
          "GE",
          "DE"
         ],
         "xaxis": "x",
         "y": [
          "PHLX",
          "CBOE",
          "AMEX",
          "ISE"
         ],
         "yaxis": "y",
         "z": [
          [
           305,
           288,
           294,
           308,
           283,
           286,
           324,
           336,
           296,
           292,
           269,
           270,
           326,
           272,
           312,
           301,
           298,
           296,
           296,
           324,
           262,
           325
          ],
          [
           339,
           308,
           286,
           306,
           303,
           280,
           290,
           311,
           302,
           302,
           310,
           293,
           293,
           283,
           262,
           311,
           321,
           288,
           308,
           287,
           296,
           294
          ],
          [
           308,
           299,
           283,
           341,
           309,
           299,
           287,
           316,
           291,
           296,
           279,
           308,
           321,
           308,
           335,
           285,
           283,
           313,
           331,
           299,
           300,
           301
          ],
          [
           277,
           302,
           305,
           302,
           291,
           281,
           293,
           312,
           333,
           294,
           275,
           281,
           287,
           314,
           299,
           294,
           292,
           315,
           295,
           289,
           318,
           320
          ]
         ]
        }
       ],
       "layout": {
        "coloraxis": {
         "colorbar": {
          "title": {
           "text": "Number of Trades"
          }
         },
         "colorscale": [
          [
           0,
           "#0d0887"
          ],
          [
           0.1111111111111111,
           "#46039f"
          ],
          [
           0.2222222222222222,
           "#7201a8"
          ],
          [
           0.3333333333333333,
           "#9c179e"
          ],
          [
           0.4444444444444444,
           "#bd3786"
          ],
          [
           0.5555555555555556,
           "#d8576b"
          ],
          [
           0.6666666666666666,
           "#ed7953"
          ],
          [
           0.7777777777777778,
           "#fb9f3a"
          ],
          [
           0.8888888888888888,
           "#fdca26"
          ],
          [
           1,
           "#f0f921"
          ]
         ]
        },
        "margin": {
         "t": 60
        },
        "template": {
         "data": {
          "bar": [
           {
            "error_x": {
             "color": "#2a3f5f"
            },
            "error_y": {
             "color": "#2a3f5f"
            },
            "marker": {
             "line": {
              "color": "#E5ECF6",
              "width": 0.5
             },
             "pattern": {
              "fillmode": "overlay",
              "size": 10,
              "solidity": 0.2
             }
            },
            "type": "bar"
           }
          ],
          "barpolar": [
           {
            "marker": {
             "line": {
              "color": "#E5ECF6",
              "width": 0.5
             },
             "pattern": {
              "fillmode": "overlay",
              "size": 10,
              "solidity": 0.2
             }
            },
            "type": "barpolar"
           }
          ],
          "carpet": [
           {
            "aaxis": {
             "endlinecolor": "#2a3f5f",
             "gridcolor": "white",
             "linecolor": "white",
             "minorgridcolor": "white",
             "startlinecolor": "#2a3f5f"
            },
            "baxis": {
             "endlinecolor": "#2a3f5f",
             "gridcolor": "white",
             "linecolor": "white",
             "minorgridcolor": "white",
             "startlinecolor": "#2a3f5f"
            },
            "type": "carpet"
           }
          ],
          "choropleth": [
           {
            "colorbar": {
             "outlinewidth": 0,
             "ticks": ""
            },
            "type": "choropleth"
           }
          ],
          "contour": [
           {
            "colorbar": {
             "outlinewidth": 0,
             "ticks": ""
            },
            "colorscale": [
             [
              0,
              "#0d0887"
             ],
             [
              0.1111111111111111,
              "#46039f"
             ],
             [
              0.2222222222222222,
              "#7201a8"
             ],
             [
              0.3333333333333333,
              "#9c179e"
             ],
             [
              0.4444444444444444,
              "#bd3786"
             ],
             [
              0.5555555555555556,
              "#d8576b"
             ],
             [
              0.6666666666666666,
              "#ed7953"
             ],
             [
              0.7777777777777778,
              "#fb9f3a"
             ],
             [
              0.8888888888888888,
              "#fdca26"
             ],
             [
              1,
              "#f0f921"
             ]
            ],
            "type": "contour"
           }
          ],
          "contourcarpet": [
           {
            "colorbar": {
             "outlinewidth": 0,
             "ticks": ""
            },
            "type": "contourcarpet"
           }
          ],
          "heatmap": [
           {
            "colorbar": {
             "outlinewidth": 0,
             "ticks": ""
            },
            "colorscale": [
             [
              0,
              "#0d0887"
             ],
             [
              0.1111111111111111,
              "#46039f"
             ],
             [
              0.2222222222222222,
              "#7201a8"
             ],
             [
              0.3333333333333333,
              "#9c179e"
             ],
             [
              0.4444444444444444,
              "#bd3786"
             ],
             [
              0.5555555555555556,
              "#d8576b"
             ],
             [
              0.6666666666666666,
              "#ed7953"
             ],
             [
              0.7777777777777778,
              "#fb9f3a"
             ],
             [
              0.8888888888888888,
              "#fdca26"
             ],
             [
              1,
              "#f0f921"
             ]
            ],
            "type": "heatmap"
           }
          ],
          "heatmapgl": [
           {
            "colorbar": {
             "outlinewidth": 0,
             "ticks": ""
            },
            "colorscale": [
             [
              0,
              "#0d0887"
             ],
             [
              0.1111111111111111,
              "#46039f"
             ],
             [
              0.2222222222222222,
              "#7201a8"
             ],
             [
              0.3333333333333333,
              "#9c179e"
             ],
             [
              0.4444444444444444,
              "#bd3786"
             ],
             [
              0.5555555555555556,
              "#d8576b"
             ],
             [
              0.6666666666666666,
              "#ed7953"
             ],
             [
              0.7777777777777778,
              "#fb9f3a"
             ],
             [
              0.8888888888888888,
              "#fdca26"
             ],
             [
              1,
              "#f0f921"
             ]
            ],
            "type": "heatmapgl"
           }
          ],
          "histogram": [
           {
            "marker": {
             "pattern": {
              "fillmode": "overlay",
              "size": 10,
              "solidity": 0.2
             }
            },
            "type": "histogram"
           }
          ],
          "histogram2d": [
           {
            "colorbar": {
             "outlinewidth": 0,
             "ticks": ""
            },
            "colorscale": [
             [
              0,
              "#0d0887"
             ],
             [
              0.1111111111111111,
              "#46039f"
             ],
             [
              0.2222222222222222,
              "#7201a8"
             ],
             [
              0.3333333333333333,
              "#9c179e"
             ],
             [
              0.4444444444444444,
              "#bd3786"
             ],
             [
              0.5555555555555556,
              "#d8576b"
             ],
             [
              0.6666666666666666,
              "#ed7953"
             ],
             [
              0.7777777777777778,
              "#fb9f3a"
             ],
             [
              0.8888888888888888,
              "#fdca26"
             ],
             [
              1,
              "#f0f921"
             ]
            ],
            "type": "histogram2d"
           }
          ],
          "histogram2dcontour": [
           {
            "colorbar": {
             "outlinewidth": 0,
             "ticks": ""
            },
            "colorscale": [
             [
              0,
              "#0d0887"
             ],
             [
              0.1111111111111111,
              "#46039f"
             ],
             [
              0.2222222222222222,
              "#7201a8"
             ],
             [
              0.3333333333333333,
              "#9c179e"
             ],
             [
              0.4444444444444444,
              "#bd3786"
             ],
             [
              0.5555555555555556,
              "#d8576b"
             ],
             [
              0.6666666666666666,
              "#ed7953"
             ],
             [
              0.7777777777777778,
              "#fb9f3a"
             ],
             [
              0.8888888888888888,
              "#fdca26"
             ],
             [
              1,
              "#f0f921"
             ]
            ],
            "type": "histogram2dcontour"
           }
          ],
          "mesh3d": [
           {
            "colorbar": {
             "outlinewidth": 0,
             "ticks": ""
            },
            "type": "mesh3d"
           }
          ],
          "parcoords": [
           {
            "line": {
             "colorbar": {
              "outlinewidth": 0,
              "ticks": ""
             }
            },
            "type": "parcoords"
           }
          ],
          "pie": [
           {
            "automargin": true,
            "type": "pie"
           }
          ],
          "scatter": [
           {
            "fillpattern": {
             "fillmode": "overlay",
             "size": 10,
             "solidity": 0.2
            },
            "type": "scatter"
           }
          ],
          "scatter3d": [
           {
            "line": {
             "colorbar": {
              "outlinewidth": 0,
              "ticks": ""
             }
            },
            "marker": {
             "colorbar": {
              "outlinewidth": 0,
              "ticks": ""
             }
            },
            "type": "scatter3d"
           }
          ],
          "scattercarpet": [
           {
            "marker": {
             "colorbar": {
              "outlinewidth": 0,
              "ticks": ""
             }
            },
            "type": "scattercarpet"
           }
          ],
          "scattergeo": [
           {
            "marker": {
             "colorbar": {
              "outlinewidth": 0,
              "ticks": ""
             }
            },
            "type": "scattergeo"
           }
          ],
          "scattergl": [
           {
            "marker": {
             "colorbar": {
              "outlinewidth": 0,
              "ticks": ""
             }
            },
            "type": "scattergl"
           }
          ],
          "scattermapbox": [
           {
            "marker": {
             "colorbar": {
              "outlinewidth": 0,
              "ticks": ""
             }
            },
            "type": "scattermapbox"
           }
          ],
          "scatterpolar": [
           {
            "marker": {
             "colorbar": {
              "outlinewidth": 0,
              "ticks": ""
             }
            },
            "type": "scatterpolar"
           }
          ],
          "scatterpolargl": [
           {
            "marker": {
             "colorbar": {
              "outlinewidth": 0,
              "ticks": ""
             }
            },
            "type": "scatterpolargl"
           }
          ],
          "scatterternary": [
           {
            "marker": {
             "colorbar": {
              "outlinewidth": 0,
              "ticks": ""
             }
            },
            "type": "scatterternary"
           }
          ],
          "surface": [
           {
            "colorbar": {
             "outlinewidth": 0,
             "ticks": ""
            },
            "colorscale": [
             [
              0,
              "#0d0887"
             ],
             [
              0.1111111111111111,
              "#46039f"
             ],
             [
              0.2222222222222222,
              "#7201a8"
             ],
             [
              0.3333333333333333,
              "#9c179e"
             ],
             [
              0.4444444444444444,
              "#bd3786"
             ],
             [
              0.5555555555555556,
              "#d8576b"
             ],
             [
              0.6666666666666666,
              "#ed7953"
             ],
             [
              0.7777777777777778,
              "#fb9f3a"
             ],
             [
              0.8888888888888888,
              "#fdca26"
             ],
             [
              1,
              "#f0f921"
             ]
            ],
            "type": "surface"
           }
          ],
          "table": [
           {
            "cells": {
             "fill": {
              "color": "#EBF0F8"
             },
             "line": {
              "color": "white"
             }
            },
            "header": {
             "fill": {
              "color": "#C8D4E3"
             },
             "line": {
              "color": "white"
             }
            },
            "type": "table"
           }
          ]
         },
         "layout": {
          "annotationdefaults": {
           "arrowcolor": "#2a3f5f",
           "arrowhead": 0,
           "arrowwidth": 1
          },
          "autotypenumbers": "strict",
          "coloraxis": {
           "colorbar": {
            "outlinewidth": 0,
            "ticks": ""
           }
          },
          "colorscale": {
           "diverging": [
            [
             0,
             "#8e0152"
            ],
            [
             0.1,
             "#c51b7d"
            ],
            [
             0.2,
             "#de77ae"
            ],
            [
             0.3,
             "#f1b6da"
            ],
            [
             0.4,
             "#fde0ef"
            ],
            [
             0.5,
             "#f7f7f7"
            ],
            [
             0.6,
             "#e6f5d0"
            ],
            [
             0.7,
             "#b8e186"
            ],
            [
             0.8,
             "#7fbc41"
            ],
            [
             0.9,
             "#4d9221"
            ],
            [
             1,
             "#276419"
            ]
           ],
           "sequential": [
            [
             0,
             "#0d0887"
            ],
            [
             0.1111111111111111,
             "#46039f"
            ],
            [
             0.2222222222222222,
             "#7201a8"
            ],
            [
             0.3333333333333333,
             "#9c179e"
            ],
            [
             0.4444444444444444,
             "#bd3786"
            ],
            [
             0.5555555555555556,
             "#d8576b"
            ],
            [
             0.6666666666666666,
             "#ed7953"
            ],
            [
             0.7777777777777778,
             "#fb9f3a"
            ],
            [
             0.8888888888888888,
             "#fdca26"
            ],
            [
             1,
             "#f0f921"
            ]
           ],
           "sequentialminus": [
            [
             0,
             "#0d0887"
            ],
            [
             0.1111111111111111,
             "#46039f"
            ],
            [
             0.2222222222222222,
             "#7201a8"
            ],
            [
             0.3333333333333333,
             "#9c179e"
            ],
            [
             0.4444444444444444,
             "#bd3786"
            ],
            [
             0.5555555555555556,
             "#d8576b"
            ],
            [
             0.6666666666666666,
             "#ed7953"
            ],
            [
             0.7777777777777778,
             "#fb9f3a"
            ],
            [
             0.8888888888888888,
             "#fdca26"
            ],
            [
             1,
             "#f0f921"
            ]
           ]
          },
          "colorway": [
           "#636efa",
           "#EF553B",
           "#00cc96",
           "#ab63fa",
           "#FFA15A",
           "#19d3f3",
           "#FF6692",
           "#B6E880",
           "#FF97FF",
           "#FECB52"
          ],
          "font": {
           "color": "#2a3f5f"
          },
          "geo": {
           "bgcolor": "white",
           "lakecolor": "white",
           "landcolor": "#E5ECF6",
           "showlakes": true,
           "showland": true,
           "subunitcolor": "white"
          },
          "hoverlabel": {
           "align": "left"
          },
          "hovermode": "closest",
          "mapbox": {
           "style": "light"
          },
          "paper_bgcolor": "white",
          "plot_bgcolor": "#E5ECF6",
          "polar": {
           "angularaxis": {
            "gridcolor": "white",
            "linecolor": "white",
            "ticks": ""
           },
           "bgcolor": "#E5ECF6",
           "radialaxis": {
            "gridcolor": "white",
            "linecolor": "white",
            "ticks": ""
           }
          },
          "scene": {
           "xaxis": {
            "backgroundcolor": "#E5ECF6",
            "gridcolor": "white",
            "gridwidth": 2,
            "linecolor": "white",
            "showbackground": true,
            "ticks": "",
            "zerolinecolor": "white"
           },
           "yaxis": {
            "backgroundcolor": "#E5ECF6",
            "gridcolor": "white",
            "gridwidth": 2,
            "linecolor": "white",
            "showbackground": true,
            "ticks": "",
            "zerolinecolor": "white"
           },
           "zaxis": {
            "backgroundcolor": "#E5ECF6",
            "gridcolor": "white",
            "gridwidth": 2,
            "linecolor": "white",
            "showbackground": true,
            "ticks": "",
            "zerolinecolor": "white"
           }
          },
          "shapedefaults": {
           "line": {
            "color": "#2a3f5f"
           }
          },
          "ternary": {
           "aaxis": {
            "gridcolor": "white",
            "linecolor": "white",
            "ticks": ""
           },
           "baxis": {
            "gridcolor": "white",
            "linecolor": "white",
            "ticks": ""
           },
           "bgcolor": "#E5ECF6",
           "caxis": {
            "gridcolor": "white",
            "linecolor": "white",
            "ticks": ""
           }
          },
          "title": {
           "x": 0.05
          },
          "xaxis": {
           "automargin": true,
           "gridcolor": "white",
           "linecolor": "white",
           "ticks": "",
           "title": {
            "standoff": 15
           },
           "zerolinecolor": "white",
           "zerolinewidth": 2
          },
          "yaxis": {
           "automargin": true,
           "gridcolor": "white",
           "linecolor": "white",
           "ticks": "",
           "title": {
            "standoff": 15
           },
           "zerolinecolor": "white",
           "zerolinewidth": 2
          }
         }
        },
        "xaxis": {
         "anchor": "y",
         "constrain": "domain",
         "domain": [
          0,
          1
         ],
         "scaleanchor": "y",
         "side": "top",
         "title": {
          "text": "Stock"
         }
        },
        "yaxis": {
         "anchor": "x",
         "autorange": "reversed",
         "constrain": "domain",
         "domain": [
          0,
          1
         ],
         "title": {
          "text": "Exchange"
         }
        }
       }
      }
     },
     "metadata": {},
     "output_type": "display_data"
    }
   ],
   "source": [
    "stocks = np.array(df.UnderlyingSymbol.unique())\n",
    "exchange = np.array(df.Exchange.unique())\n",
    "numberoftrades = np.empty(0)\n",
    "for i in exchange:\n",
    "    x = np.empty(0)\n",
    "    for j in stocks:\n",
    "        temp_df = df1.loc[df1[i] == 1]\n",
    "        temp_df = temp_df.loc[temp_df[j] == 1]\n",
    "        x = np.append(x, len(temp_df))\n",
    "    numberoftrades = np.append(numberoftrades, np.array(x))\n",
    "numberoftrades = numberoftrades.reshape(len(exchange), len(stocks))\n",
    "\n",
    "fig = px.imshow(numberoftrades, \n",
    "                labels=dict(x=\"Stock\", y=\"Exchange\", color=\"Number of Trades\"),\n",
    "                x=stocks,\n",
    "                y=exchange\n",
    "               )\n",
    "fig.update_xaxes(side=\"top\")\n",
    "fig.show()"
   ]
  },
  {
   "attachments": {},
   "cell_type": "markdown",
   "metadata": {},
   "source": [
    "Lastly, I chose to see whether the time of day the trade was made impacted the the rate at which trades were filled. "
   ]
  },
  {
   "cell_type": "code",
   "execution_count": 12,
   "metadata": {},
   "outputs": [
    {
     "data": {
      "image/png": "[encoded data removed]",
      "text/plain": [
       "<Figure size 2000x500 with 1 Axes>"
      ]
     },
     "metadata": {},
     "output_type": "display_data"
    },
    {
     "data": {
      "image/png": "[encoded data removed]",
      "text/plain": [
       "<Figure size 2000x500 with 1 Axes>"
      ]
     },
     "metadata": {},
     "output_type": "display_data"
    }
   ],
   "source": [
    "fill_rate_time = np.empty(0)\n",
    "x = df.TimeOfOrder.unique()\n",
    "time_ranges = x[0:len(x):15]\n",
    "trade_count = np.empty(0)\n",
    "x_time = [\"9:30 to 9:45\",\"9:45 to 10:00\", \"10:00 to 10:15\", \"10:15 to 10:30\", \"10:30 to 10:45\",\"10:45 to 11:00\", \"11:00 to 11:15\", \"11:15 to 11:30\", \"11:30 to 11:45\",\"11:45 to 12:00\", \"12:00 to 12:15\", \"12:15 to 12:30\"]\n",
    "for i in range(len(time_ranges) - 1):\n",
    "    temp_df = df1.loc[df1[\"TimeOfOrder\"] > time_ranges[i]]\n",
    "    temp_df = temp_df.loc[temp_df[\"TimeOfOrder\"] <= time_ranges[i + 1]]\n",
    "    fill_rate_time = np.append(fill_rate_time, temp_df[\"FILL\"].mean())\n",
    "    trade_count = np.append(trade_count, len(temp_df))\n",
    "\n",
    "fig = plt.figure(figsize = (20, 5))\n",
    "plt.bar(x_time, fill_rate_time, color ='blue', width = 0.4)\n",
    "plt.ylim(0.4, 0.5)\n",
    " \n",
    "plt.xlabel(\"Time_Ranges\")\n",
    "plt.ylabel(\"Fill Percentage\")\n",
    "plt.title(\"Fill Rate vs Time\")\n",
    "plt.show()\n",
    "\n",
    "fig2 = plt.figure(figsize = (20, 5))\n",
    "plt.bar(x_time, trade_count, color ='blue', width = 0.4)\n",
    " \n",
    "plt.xlabel(\"Time_Ranges\")\n",
    "plt.ylabel(\"Number of Trades\")\n",
    "plt.title(\"Trades vs Time\")\n",
    "plt.show()"
   ]
  },
  {
   "cell_type": "code",
   "execution_count": 29,
   "metadata": {},
   "outputs": [
    {
     "name": "stdout",
     "output_type": "stream",
     "text": [
      "0.42340372360364864 0.4680011548455394\n"
     ]
    }
   ],
   "source": [
    "round_number = df1.loc[df1[\"Strike\"] % 5 == 0]\n",
    "other_number = df1.loc[df1[\"Strike\"] % 5 != 0]\n",
    "print(round_number.FILL.mean(), other_number.FILL.mean())\n",
    "\n"
   ]
  },
  {
   "attachments": {},
   "cell_type": "markdown",
   "metadata": {},
   "source": [
    "## Reducing Latency\n",
    "\n",
    "We can see from the correlaton table that the major factor affecting the time interval between the time the order manager recieves and places the order is which exchange the order is placed in. Their correlations range from 27 to 81% so I'm going to assume that is the primary source of reducing latency."
   ]
  },
  {
   "cell_type": "code",
   "execution_count": 13,
   "metadata": {},
   "outputs": [
    {
     "data": {
      "image/png": "[encoded data removed]",
      "text/plain": [
       "<Figure size 500x500 with 1 Axes>"
      ]
     },
     "metadata": {},
     "output_type": "display_data"
    }
   ],
   "source": [
    "exchange\n",
    "latency_exchange = np.empty(0)\n",
    "for i in exchange:\n",
    "    temp_df = df1.loc[df1[i] == 1]\n",
    "    latency_exchange = np.append(latency_exchange, temp_df[\"Time\"].mean())\n",
    "\n",
    "fig = plt.figure(figsize = (5, 5))\n",
    "plt.bar(exchange, latency_exchange, color ='blue', width = 0.4)\n",
    " \n",
    "plt.xlabel(\"Exchange\")\n",
    "plt.ylabel(\"Time\")\n",
    "plt.title(\"Exchange vs Time\")\n",
    "plt.show()"
   ]
  },
  {
   "cell_type": "code",
   "execution_count": 30,
   "metadata": {},
   "outputs": [
    {
     "name": "stdout",
     "output_type": "stream",
     "text": [
      "0.0006866030238660603 0.0006779270522567942\n"
     ]
    }
   ],
   "source": [
    "round_number = df1.loc[df1[\"Strike\"] % 5 == 0]\n",
    "other_number = df1.loc[df1[\"Strike\"] % 5 != 0]\n",
    "print(round_number.Time.mean(), other_number.Time.mean())"
   ]
  }
 ],
 "metadata": {
  "kernelspec": {
   "display_name": "base",
   "language": "python",
   "name": "python3"
  },
  "language_info": {
   "codemirror_mode": {
    "name": "ipython",
    "version": 3
   },
   "file_extension": ".py",
   "mimetype": "text/x-python",
   "name": "python",
   "nbconvert_exporter": "python",
   "pygments_lexer": "ipython3",
   "version": "3.9.12"
  },
  "vscode": {
   "interpreter": {
    "hash": "034c544711677ba1767820006f6cbf0160dcbb265606bbc10838d50f88ca1e8b"
   }
  }
 },
 "nbformat": 4,
 "nbformat_minor": 2
}
